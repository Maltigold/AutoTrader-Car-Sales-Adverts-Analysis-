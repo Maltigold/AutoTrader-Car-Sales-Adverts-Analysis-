{
 "cells": [
  {
   "cell_type": "markdown",
   "id": "99ab2e0e",
   "metadata": {},
   "source": [
    "# NAME: TEMITOPE OLUWASEYI ABISOLA\n"
   ]
  },
  {
   "cell_type": "markdown",
   "id": "42826c81",
   "metadata": {},
   "source": [
    "# STUDENT ID: 22540072"
   ]
  },
  {
   "cell_type": "markdown",
   "id": "429c27a9",
   "metadata": {},
   "source": [
    "# DEPARTMENT: DEPARTMENT OF COMPUTING AND MATHEMATICS"
   ]
  },
  {
   "attachments": {
    "images.png": {
     "image/png": "[encoded data removed]"
    }
   },
   "cell_type": "markdown",
   "id": "10dc7fa6",
   "metadata": {},
   "source": [
    "![images.png](attachment:images.png)"
   ]
  },
  {
   "cell_type": "raw",
   "id": "1c55b636",
   "metadata": {},
   "source": [
    " DATA UNDERSTANDING AND EXPLORATION\n",
    "1.1 Meaning and Type of Features; Analysis of Univariable Distributions\n",
    "1.2 Identification/Commenting on Missing Values.\n",
    "1.3 Data Processing for Exploration and Visualization.\n",
    "\n",
    " DATA PROCESSING\n",
    "2.1 Dealing with Missing Values, Outliers, and Noise\n",
    "2.2 Feature Engineering, Data Transformation.\n",
    "2.3 Sub-setting (e.g., Feature Selection, Data Sampling)\n",
    "\n",
    " ASSOCIATION AND GROUP DIFFERENCES ANALYSIS\n",
    "3.1 Quantitative - Quantitative\n",
    "3.2 Quantitative - Categorical\n",
    "3.3 Categorical - Categorical\n"
   ]
  },
  {
   "cell_type": "markdown",
   "id": "a6fbcae4",
   "metadata": {},
   "source": [
    "#Loading of the dataframe"
   ]
  },
  {
   "cell_type": "code",
   "execution_count": 1,
   "id": "7a1ab0f1",
   "metadata": {},
   "outputs": [],
   "source": [
    "# %config InlineBackend.figure_format = 'retina'\n",
    "import pandas as pd\n",
    "import numpy as np\n",
    "import matplotlib.pyplot as plt\n",
    "import seaborn as sns\n",
    "sns.set(rc={'figure.figsize': (8,6)}, style='ticks', context='notebook')\n",
    "\n",
    "import statsmodels.api as sm\n",
    "\n",
    "from sklearn.linear_model import LinearRegression\n",
    "\n",
    "\n",
    "import warnings\n",
    "warnings.filterwarnings(\"ignore\")"
   ]
  },
  {
   "cell_type": "code",
   "execution_count": 2,
   "id": "ea1d261a",
   "metadata": {},
   "outputs": [],
   "source": [
    "#adverts_df is the Autotrader Car Adverts datasets"
   ]
  },
  {
   "cell_type": "code",
   "execution_count": 3,
   "id": "c76fbb48",
   "metadata": {},
   "outputs": [],
   "source": [
    "adverts_df = pd.read_csv(\"C:/Users/user/Downloads/adverts.csv\")"
   ]
  },
  {
   "cell_type": "code",
   "execution_count": 4,
   "id": "fd67c4df",
   "metadata": {},
   "outputs": [],
   "source": [
    "#public_reference in my own view is the number of people that inquired about the car\n",
    "#reg_code is the car registration for USED cars\n",
    "#standard_model is a feature of the car in the model\n",
    "#mileage is a feature of the total distance covered of the car before it was sold\n",
    "#standard_make is a feature of the car.\n",
    "#vechicle_condition is to let us know the difference between Used and New cars. we can also determine that the reg_code\n",
    "#year_of_registration is the year the car was acquired and registered the old user...\n",
    "#unfortunately the missing values in both the reg_code and the year_of_registration are not the same.\n",
    "#body_type is the feature differentiating the size of the car.\n",
    "#crossover_car_and_van by my understanding is a feature that show if a car can be converted into a van.\n",
    "#fuel_type is the feature showing the type of fuel that powers the engine of the car."
   ]
  },
  {
   "cell_type": "code",
   "execution_count": 5,
   "id": "9faeefa0",
   "metadata": {},
   "outputs": [
    {
     "data": {
      "text/html": [
       "<div>\n",
       "<style scoped>\n",
       "    .dataframe tbody tr th:only-of-type {\n",
       "        vertical-align: middle;\n",
       "    }\n",
       "\n",
       "    .dataframe tbody tr th {\n",
       "        vertical-align: top;\n",
       "    }\n",
       "\n",
       "    .dataframe thead th {\n",
       "        text-align: right;\n",
       "    }\n",
       "</style>\n",
       "<table border=\"1\" class=\"dataframe\">\n",
       "  <thead>\n",
       "    <tr style=\"text-align: right;\">\n",
       "      <th></th>\n",
       "      <th>public_reference</th>\n",
       "      <th>mileage</th>\n",
       "      <th>reg_code</th>\n",
       "      <th>standard_colour</th>\n",
       "      <th>standard_make</th>\n",
       "      <th>standard_model</th>\n",
       "      <th>vehicle_condition</th>\n",
       "      <th>year_of_registration</th>\n",
       "      <th>price</th>\n",
       "      <th>body_type</th>\n",
       "      <th>crossover_car_and_van</th>\n",
       "      <th>fuel_type</th>\n",
       "    </tr>\n",
       "  </thead>\n",
       "  <tbody>\n",
       "    <tr>\n",
       "      <th>0</th>\n",
       "      <td>202006039777689</td>\n",
       "      <td>0.0</td>\n",
       "      <td>NaN</td>\n",
       "      <td>Grey</td>\n",
       "      <td>Volvo</td>\n",
       "      <td>XC90</td>\n",
       "      <td>NEW</td>\n",
       "      <td>NaN</td>\n",
       "      <td>73970</td>\n",
       "      <td>SUV</td>\n",
       "      <td>False</td>\n",
       "      <td>Petrol Plug-in Hybrid</td>\n",
       "    </tr>\n",
       "    <tr>\n",
       "      <th>1</th>\n",
       "      <td>202007020778260</td>\n",
       "      <td>108230.0</td>\n",
       "      <td>61</td>\n",
       "      <td>Blue</td>\n",
       "      <td>Jaguar</td>\n",
       "      <td>XF</td>\n",
       "      <td>USED</td>\n",
       "      <td>2011.0</td>\n",
       "      <td>7000</td>\n",
       "      <td>Saloon</td>\n",
       "      <td>False</td>\n",
       "      <td>Diesel</td>\n",
       "    </tr>\n",
       "    <tr>\n",
       "      <th>2</th>\n",
       "      <td>202007020778474</td>\n",
       "      <td>7800.0</td>\n",
       "      <td>17</td>\n",
       "      <td>Grey</td>\n",
       "      <td>SKODA</td>\n",
       "      <td>Yeti</td>\n",
       "      <td>USED</td>\n",
       "      <td>2017.0</td>\n",
       "      <td>14000</td>\n",
       "      <td>SUV</td>\n",
       "      <td>False</td>\n",
       "      <td>Petrol</td>\n",
       "    </tr>\n",
       "    <tr>\n",
       "      <th>3</th>\n",
       "      <td>202007080986776</td>\n",
       "      <td>45000.0</td>\n",
       "      <td>16</td>\n",
       "      <td>Brown</td>\n",
       "      <td>Vauxhall</td>\n",
       "      <td>Mokka</td>\n",
       "      <td>USED</td>\n",
       "      <td>2016.0</td>\n",
       "      <td>7995</td>\n",
       "      <td>Hatchback</td>\n",
       "      <td>False</td>\n",
       "      <td>Diesel</td>\n",
       "    </tr>\n",
       "    <tr>\n",
       "      <th>4</th>\n",
       "      <td>202007161321269</td>\n",
       "      <td>64000.0</td>\n",
       "      <td>64</td>\n",
       "      <td>Grey</td>\n",
       "      <td>Land Rover</td>\n",
       "      <td>Range Rover Sport</td>\n",
       "      <td>USED</td>\n",
       "      <td>2015.0</td>\n",
       "      <td>26995</td>\n",
       "      <td>SUV</td>\n",
       "      <td>False</td>\n",
       "      <td>Diesel</td>\n",
       "    </tr>\n",
       "  </tbody>\n",
       "</table>\n",
       "</div>"
      ],
      "text/plain": [
       "   public_reference   mileage reg_code standard_colour standard_make  \\\n",
       "0   202006039777689       0.0      NaN            Grey         Volvo   \n",
       "1   202007020778260  108230.0       61            Blue        Jaguar   \n",
       "2   202007020778474    7800.0       17            Grey         SKODA   \n",
       "3   202007080986776   45000.0       16           Brown      Vauxhall   \n",
       "4   202007161321269   64000.0       64            Grey    Land Rover   \n",
       "\n",
       "      standard_model vehicle_condition  year_of_registration  price  \\\n",
       "0               XC90               NEW                   NaN  73970   \n",
       "1                 XF              USED                2011.0   7000   \n",
       "2               Yeti              USED                2017.0  14000   \n",
       "3              Mokka              USED                2016.0   7995   \n",
       "4  Range Rover Sport              USED                2015.0  26995   \n",
       "\n",
       "   body_type  crossover_car_and_van              fuel_type  \n",
       "0        SUV                  False  Petrol Plug-in Hybrid  \n",
       "1     Saloon                  False                 Diesel  \n",
       "2        SUV                  False                 Petrol  \n",
       "3  Hatchback                  False                 Diesel  \n",
       "4        SUV                  False                 Diesel  "
      ]
     },
     "execution_count": 5,
     "metadata": {},
     "output_type": "execute_result"
    }
   ],
   "source": [
    "adverts_df.head()"
   ]
  },
  {
   "cell_type": "code",
   "execution_count": 6,
   "id": "08743b8a",
   "metadata": {
    "scrolled": true
   },
   "outputs": [
    {
     "name": "stdout",
     "output_type": "stream",
     "text": [
      "<class 'pandas.core.frame.DataFrame'>\n",
      "RangeIndex: 402005 entries, 0 to 402004\n",
      "Data columns (total 12 columns):\n",
      " #   Column                 Non-Null Count   Dtype  \n",
      "---  ------                 --------------   -----  \n",
      " 0   public_reference       402005 non-null  int64  \n",
      " 1   mileage                401878 non-null  float64\n",
      " 2   reg_code               370148 non-null  object \n",
      " 3   standard_colour        396627 non-null  object \n",
      " 4   standard_make          402005 non-null  object \n",
      " 5   standard_model         402005 non-null  object \n",
      " 6   vehicle_condition      402005 non-null  object \n",
      " 7   year_of_registration   368694 non-null  float64\n",
      " 8   price                  402005 non-null  int64  \n",
      " 9   body_type              401168 non-null  object \n",
      " 10  crossover_car_and_van  402005 non-null  bool   \n",
      " 11  fuel_type              401404 non-null  object \n",
      "dtypes: bool(1), float64(2), int64(2), object(7)\n",
      "memory usage: 34.1+ MB\n"
     ]
    }
   ],
   "source": [
    "adverts_df.info()"
   ]
  },
  {
   "cell_type": "markdown",
   "id": "826effca",
   "metadata": {},
   "source": [
    "##To identify how many rows and columns in the dataframe"
   ]
  },
  {
   "cell_type": "code",
   "execution_count": 7,
   "id": "d10adf33",
   "metadata": {},
   "outputs": [
    {
     "data": {
      "text/plain": [
       "(402005, 12)"
      ]
     },
     "execution_count": 7,
     "metadata": {},
     "output_type": "execute_result"
    }
   ],
   "source": [
    "adverts_df.shape"
   ]
  },
  {
   "cell_type": "code",
   "execution_count": 8,
   "id": "10845df6",
   "metadata": {},
   "outputs": [
    {
     "data": {
      "text/html": [
       "<div>\n",
       "<style scoped>\n",
       "    .dataframe tbody tr th:only-of-type {\n",
       "        vertical-align: middle;\n",
       "    }\n",
       "\n",
       "    .dataframe tbody tr th {\n",
       "        vertical-align: top;\n",
       "    }\n",
       "\n",
       "    .dataframe thead th {\n",
       "        text-align: right;\n",
       "    }\n",
       "</style>\n",
       "<table border=\"1\" class=\"dataframe\">\n",
       "  <thead>\n",
       "    <tr style=\"text-align: right;\">\n",
       "      <th></th>\n",
       "      <th>public_reference</th>\n",
       "      <th>mileage</th>\n",
       "      <th>year_of_registration</th>\n",
       "      <th>price</th>\n",
       "    </tr>\n",
       "  </thead>\n",
       "  <tbody>\n",
       "    <tr>\n",
       "      <th>count</th>\n",
       "      <td>4.020050e+05</td>\n",
       "      <td>401878.000000</td>\n",
       "      <td>368694.000000</td>\n",
       "      <td>4.020050e+05</td>\n",
       "    </tr>\n",
       "    <tr>\n",
       "      <th>mean</th>\n",
       "      <td>2.020071e+14</td>\n",
       "      <td>37743.595656</td>\n",
       "      <td>2015.006206</td>\n",
       "      <td>1.734197e+04</td>\n",
       "    </tr>\n",
       "    <tr>\n",
       "      <th>std</th>\n",
       "      <td>1.691662e+10</td>\n",
       "      <td>34831.724018</td>\n",
       "      <td>7.962667</td>\n",
       "      <td>4.643746e+04</td>\n",
       "    </tr>\n",
       "    <tr>\n",
       "      <th>min</th>\n",
       "      <td>2.013072e+14</td>\n",
       "      <td>0.000000</td>\n",
       "      <td>999.000000</td>\n",
       "      <td>1.200000e+02</td>\n",
       "    </tr>\n",
       "    <tr>\n",
       "      <th>25%</th>\n",
       "      <td>2.020090e+14</td>\n",
       "      <td>10481.000000</td>\n",
       "      <td>2013.000000</td>\n",
       "      <td>7.495000e+03</td>\n",
       "    </tr>\n",
       "    <tr>\n",
       "      <th>50%</th>\n",
       "      <td>2.020093e+14</td>\n",
       "      <td>28629.500000</td>\n",
       "      <td>2016.000000</td>\n",
       "      <td>1.260000e+04</td>\n",
       "    </tr>\n",
       "    <tr>\n",
       "      <th>75%</th>\n",
       "      <td>2.020102e+14</td>\n",
       "      <td>56875.750000</td>\n",
       "      <td>2018.000000</td>\n",
       "      <td>2.000000e+04</td>\n",
       "    </tr>\n",
       "    <tr>\n",
       "      <th>max</th>\n",
       "      <td>2.020110e+14</td>\n",
       "      <td>999999.000000</td>\n",
       "      <td>2020.000000</td>\n",
       "      <td>9.999999e+06</td>\n",
       "    </tr>\n",
       "  </tbody>\n",
       "</table>\n",
       "</div>"
      ],
      "text/plain": [
       "       public_reference        mileage  year_of_registration         price\n",
       "count      4.020050e+05  401878.000000         368694.000000  4.020050e+05\n",
       "mean       2.020071e+14   37743.595656           2015.006206  1.734197e+04\n",
       "std        1.691662e+10   34831.724018              7.962667  4.643746e+04\n",
       "min        2.013072e+14       0.000000            999.000000  1.200000e+02\n",
       "25%        2.020090e+14   10481.000000           2013.000000  7.495000e+03\n",
       "50%        2.020093e+14   28629.500000           2016.000000  1.260000e+04\n",
       "75%        2.020102e+14   56875.750000           2018.000000  2.000000e+04\n",
       "max        2.020110e+14  999999.000000           2020.000000  9.999999e+06"
      ]
     },
     "execution_count": 8,
     "metadata": {},
     "output_type": "execute_result"
    }
   ],
   "source": [
    "adverts_df.describe()"
   ]
  },
  {
   "cell_type": "code",
   "execution_count": 9,
   "id": "15177b21",
   "metadata": {},
   "outputs": [
    {
     "data": {
      "text/plain": [
       "public_reference           int64\n",
       "mileage                  float64\n",
       "reg_code                  object\n",
       "standard_colour           object\n",
       "standard_make             object\n",
       "standard_model            object\n",
       "vehicle_condition         object\n",
       "year_of_registration     float64\n",
       "price                      int64\n",
       "body_type                 object\n",
       "crossover_car_and_van       bool\n",
       "fuel_type                 object\n",
       "dtype: object"
      ]
     },
     "execution_count": 9,
     "metadata": {},
     "output_type": "execute_result"
    }
   ],
   "source": [
    "adverts_df.dtypes"
   ]
  },
  {
   "cell_type": "markdown",
   "id": "efd6768d",
   "metadata": {},
   "source": [
    "## Analysis Of Distributions"
   ]
  },
  {
   "cell_type": "code",
   "execution_count": 10,
   "id": "a27af372",
   "metadata": {},
   "outputs": [],
   "source": [
    "mileage = adverts_df['mileage'].values\n",
    "year_of_registration = adverts_df['year_of_registration'].values\n",
    "price = adverts_df['price'].values"
   ]
  },
  {
   "cell_type": "markdown",
   "id": "4ec5184b",
   "metadata": {},
   "source": [
    "##Using the variables to create histograms plot to visualize the distribution of the data."
   ]
  },
  {
   "cell_type": "code",
   "execution_count": 11,
   "id": "9500a648",
   "metadata": {},
   "outputs": [
    {
     "data": {
      "image/png": "[encoded data removed]",
      "text/plain": [
       "<Figure size 1080x360 with 3 Axes>"
      ]
     },
     "metadata": {},
     "output_type": "display_data"
    }
   ],
   "source": [
    "# Plot the histogram\n",
    "fig, ax = plt.subplots(1,3,figsize=(15,5))\n",
    "ax[0].hist(mileage, bins=30)\n",
    "ax[0].title.set_text('Analysis of Distribution (Mileage)')\n",
    "ax[0].set_yscale('log')\n",
    "\n",
    "ax[1].hist(price, bins=30)\n",
    "ax[1].title.set_text('Analysis of Distribution (Price)')\n",
    "ax[1].set_yscale('log')\n",
    "\n",
    "ax[2].hist(year_of_registration, bins=30)\n",
    "ax[2].title.set_text('Analysis of Distribution (Year of Registration)')\n",
    "ax[2].set_yscale('log')"
   ]
  },
  {
   "cell_type": "markdown",
   "id": "28e7ad8c",
   "metadata": {},
   "source": [
    "##Showing a histogram plot for 3 variables \"Mileage\",\"Price\", \"Year_of_registration\""
   ]
  },
  {
   "cell_type": "markdown",
   "id": "2a1c6b16",
   "metadata": {},
   "source": [
    "## Identication/Commenting on Missing Values"
   ]
  },
  {
   "cell_type": "code",
   "execution_count": 12,
   "id": "9bf9a70e",
   "metadata": {},
   "outputs": [
    {
     "data": {
      "text/plain": [
       "public_reference             0\n",
       "mileage                    127\n",
       "reg_code                 31857\n",
       "standard_colour           5378\n",
       "standard_make                0\n",
       "standard_model               0\n",
       "vehicle_condition            0\n",
       "year_of_registration     33311\n",
       "price                        0\n",
       "body_type                  837\n",
       "crossover_car_and_van        0\n",
       "fuel_type                  601\n",
       "dtype: int64"
      ]
     },
     "execution_count": 12,
     "metadata": {},
     "output_type": "execute_result"
    }
   ],
   "source": [
    "adverts_df.isna().sum()"
   ]
  },
  {
   "cell_type": "markdown",
   "id": "f913983f",
   "metadata": {},
   "source": [
    "#counting and identification of missing values for each columns and decide whether or not to handle the missing data and how you want to handle it in the dataframe."
   ]
  },
  {
   "cell_type": "markdown",
   "id": "a70ae92b",
   "metadata": {},
   "source": [
    "## Identication/Commenting on Outliers and Noise"
   ]
  },
  {
   "cell_type": "code",
   "execution_count": 13,
   "id": "50407aeb",
   "metadata": {},
   "outputs": [
    {
     "data": {
      "image/png": "[encoded data removed]",
      "text/plain": [
       "<Figure size 1080x360 with 3 Axes>"
      ]
     },
     "metadata": {},
     "output_type": "display_data"
    }
   ],
   "source": [
    "fig, ax = plt.subplots(1,3, figsize=(15,5))\n",
    "sns.boxplot(y=np.log10(adverts_df['price']),ax=ax[0])\n",
    "ax[0].title.set_text('Price')\n",
    "\n",
    "sns.boxplot(y=np.log10(adverts_df['mileage']),ax=ax[1])\n",
    "ax[1].title.set_text('Mileage')\n",
    "\n",
    "sns.boxplot(y=np.log10(adverts_df['year_of_registration']),ax=ax[2])\n",
    "ax[2].title.set_text('Year of Registration')"
   ]
  },
  {
   "cell_type": "markdown",
   "id": "da302729",
   "metadata": {},
   "source": [
    "# 2.DATA PROCESSING"
   ]
  },
  {
   "cell_type": "markdown",
   "id": "f82d9ac4",
   "metadata": {},
   "source": [
    "### 2.1-  DEALING WITH MISSING VALUES, OUTLIERS AND NOISE"
   ]
  },
  {
   "cell_type": "code",
   "execution_count": 14,
   "id": "32888147",
   "metadata": {},
   "outputs": [
    {
     "data": {
      "text/html": [
       "<div>\n",
       "<style scoped>\n",
       "    .dataframe tbody tr th:only-of-type {\n",
       "        vertical-align: middle;\n",
       "    }\n",
       "\n",
       "    .dataframe tbody tr th {\n",
       "        vertical-align: top;\n",
       "    }\n",
       "\n",
       "    .dataframe thead th {\n",
       "        text-align: right;\n",
       "    }\n",
       "</style>\n",
       "<table border=\"1\" class=\"dataframe\">\n",
       "  <thead>\n",
       "    <tr style=\"text-align: right;\">\n",
       "      <th></th>\n",
       "      <th>public_reference</th>\n",
       "      <th>mileage</th>\n",
       "      <th>reg_code</th>\n",
       "      <th>standard_colour</th>\n",
       "      <th>standard_make</th>\n",
       "      <th>standard_model</th>\n",
       "      <th>vehicle_condition</th>\n",
       "      <th>year_of_registration</th>\n",
       "      <th>price</th>\n",
       "      <th>body_type</th>\n",
       "      <th>crossover_car_and_van</th>\n",
       "      <th>fuel_type</th>\n",
       "    </tr>\n",
       "  </thead>\n",
       "  <tbody>\n",
       "    <tr>\n",
       "      <th>0</th>\n",
       "      <td>202006039777689</td>\n",
       "      <td>0.0</td>\n",
       "      <td>NaN</td>\n",
       "      <td>Grey</td>\n",
       "      <td>Volvo</td>\n",
       "      <td>XC90</td>\n",
       "      <td>NEW</td>\n",
       "      <td>NaN</td>\n",
       "      <td>73970</td>\n",
       "      <td>SUV</td>\n",
       "      <td>False</td>\n",
       "      <td>Petrol Plug-in Hybrid</td>\n",
       "    </tr>\n",
       "    <tr>\n",
       "      <th>1</th>\n",
       "      <td>202007020778260</td>\n",
       "      <td>108230.0</td>\n",
       "      <td>61</td>\n",
       "      <td>Blue</td>\n",
       "      <td>Jaguar</td>\n",
       "      <td>XF</td>\n",
       "      <td>USED</td>\n",
       "      <td>2011.0</td>\n",
       "      <td>7000</td>\n",
       "      <td>Saloon</td>\n",
       "      <td>False</td>\n",
       "      <td>Diesel</td>\n",
       "    </tr>\n",
       "    <tr>\n",
       "      <th>2</th>\n",
       "      <td>202007020778474</td>\n",
       "      <td>7800.0</td>\n",
       "      <td>17</td>\n",
       "      <td>Grey</td>\n",
       "      <td>SKODA</td>\n",
       "      <td>Yeti</td>\n",
       "      <td>USED</td>\n",
       "      <td>2017.0</td>\n",
       "      <td>14000</td>\n",
       "      <td>SUV</td>\n",
       "      <td>False</td>\n",
       "      <td>Petrol</td>\n",
       "    </tr>\n",
       "    <tr>\n",
       "      <th>3</th>\n",
       "      <td>202007080986776</td>\n",
       "      <td>45000.0</td>\n",
       "      <td>16</td>\n",
       "      <td>Brown</td>\n",
       "      <td>Vauxhall</td>\n",
       "      <td>Mokka</td>\n",
       "      <td>USED</td>\n",
       "      <td>2016.0</td>\n",
       "      <td>7995</td>\n",
       "      <td>Hatchback</td>\n",
       "      <td>False</td>\n",
       "      <td>Diesel</td>\n",
       "    </tr>\n",
       "    <tr>\n",
       "      <th>4</th>\n",
       "      <td>202007161321269</td>\n",
       "      <td>64000.0</td>\n",
       "      <td>64</td>\n",
       "      <td>Grey</td>\n",
       "      <td>Land Rover</td>\n",
       "      <td>Range Rover Sport</td>\n",
       "      <td>USED</td>\n",
       "      <td>2015.0</td>\n",
       "      <td>26995</td>\n",
       "      <td>SUV</td>\n",
       "      <td>False</td>\n",
       "      <td>Diesel</td>\n",
       "    </tr>\n",
       "  </tbody>\n",
       "</table>\n",
       "</div>"
      ],
      "text/plain": [
       "   public_reference   mileage reg_code standard_colour standard_make  \\\n",
       "0   202006039777689       0.0      NaN            Grey         Volvo   \n",
       "1   202007020778260  108230.0       61            Blue        Jaguar   \n",
       "2   202007020778474    7800.0       17            Grey         SKODA   \n",
       "3   202007080986776   45000.0       16           Brown      Vauxhall   \n",
       "4   202007161321269   64000.0       64            Grey    Land Rover   \n",
       "\n",
       "      standard_model vehicle_condition  year_of_registration  price  \\\n",
       "0               XC90               NEW                   NaN  73970   \n",
       "1                 XF              USED                2011.0   7000   \n",
       "2               Yeti              USED                2017.0  14000   \n",
       "3              Mokka              USED                2016.0   7995   \n",
       "4  Range Rover Sport              USED                2015.0  26995   \n",
       "\n",
       "   body_type  crossover_car_and_van              fuel_type  \n",
       "0        SUV                  False  Petrol Plug-in Hybrid  \n",
       "1     Saloon                  False                 Diesel  \n",
       "2        SUV                  False                 Petrol  \n",
       "3  Hatchback                  False                 Diesel  \n",
       "4        SUV                  False                 Diesel  "
      ]
     },
     "execution_count": 14,
     "metadata": {},
     "output_type": "execute_result"
    }
   ],
   "source": [
    "adverts_df.head()"
   ]
  },
  {
   "cell_type": "markdown",
   "id": "9dc8c24f",
   "metadata": {},
   "source": [
    "##To get a quick overview of the data while checking the first few rows to help identify any issues with the data such as missing values or incorrect data types."
   ]
  },
  {
   "cell_type": "code",
   "execution_count": 15,
   "id": "dd3e0f1d",
   "metadata": {},
   "outputs": [
    {
     "data": {
      "text/plain": [
       "count    401878.000000\n",
       "mean      37743.595656\n",
       "std       34831.724018\n",
       "min           0.000000\n",
       "25%       10481.000000\n",
       "50%       28629.500000\n",
       "75%       56875.750000\n",
       "max      999999.000000\n",
       "Name: mileage, dtype: float64"
      ]
     },
     "execution_count": 15,
     "metadata": {},
     "output_type": "execute_result"
    }
   ],
   "source": [
    "adverts_df['mileage'].describe()"
   ]
  },
  {
   "cell_type": "code",
   "execution_count": 16,
   "id": "c05ba958",
   "metadata": {},
   "outputs": [
    {
     "name": "stdout",
     "output_type": "stream",
     "text": [
      "No negative values found.\n"
     ]
    }
   ],
   "source": [
    "# check for negative values\n",
    "negative_values = adverts_df[adverts_df['mileage'] < 0]\n",
    "if negative_values.empty:\n",
    "    print(\"No negative values found.\")\n",
    "else:\n",
    "    print(\"Negative values found.\")\n"
   ]
  },
  {
   "cell_type": "code",
   "execution_count": 17,
   "id": "e8a5c547",
   "metadata": {
    "scrolled": true
   },
   "outputs": [
    {
     "data": {
      "image/png": "[encoded data removed]",
      "text/plain": [
       "<Figure size 576x432 with 1 Axes>"
      ]
     },
     "metadata": {},
     "output_type": "display_data"
    }
   ],
   "source": [
    "#Select a random sample of the data\n",
    "sample =adverts_df.sample(n=100, random_state=42)\n",
    "\n",
    "sns.set(style='ticks', color_codes=True)\n",
    "sns.boxplot(data=sample, x='mileage')\n",
    "plt.show()"
   ]
  },
  {
   "cell_type": "code",
   "execution_count": 18,
   "id": "e1e85c26",
   "metadata": {},
   "outputs": [
    {
     "data": {
      "image/png": "[encoded data removed]",
      "text/plain": [
       "<Figure size 576x432 with 1 Axes>"
      ]
     },
     "metadata": {},
     "output_type": "display_data"
    }
   ],
   "source": [
    "import seaborn as sns\n",
    "import numpy as np\n",
    "\n",
    "\n",
    "if 'mileage' in adverts_df.columns:\n",
    "    # drop NaN values from the 'mileage' column\n",
    "    adverts_df.dropna(subset=['mileage'], inplace=True)\n",
    "    # Apply log10 to mileage and pass the result to histplot function\n",
    "    sns.histplot(np.log10(adverts_df['mileage']+1), kde=True, bins=100)\n",
    "else:\n",
    "    print(\"The 'mileage' column does not exist in the DataFrame.\")\n"
   ]
  },
  {
   "cell_type": "code",
   "execution_count": 19,
   "id": "1c03b130",
   "metadata": {},
   "outputs": [],
   "source": [
    "adverts_df['mileage'] = adverts_df.groupby(['standard_make','standard_model'])['mileage'].apply(lambda x: x.fillna(x.mean()))"
   ]
  },
  {
   "cell_type": "markdown",
   "id": "2cf3ce3e",
   "metadata": {},
   "source": [
    "##The fillna() with the mean()function fillled the missing values in each group of 'standard_make' and 'standard_model' with the mean value of the non-missing values in the same group.\n",
    "##The groupby() function groups the data by 'standard_make' and 'standard_model' values and applies the lambda function to all the groups.\n",
    "##The main function of the code is to replace the previous 'mileage' column with a new one where the missing values are filled in with the mean values of the non-missing values of the same group."
   ]
  },
  {
   "cell_type": "code",
   "execution_count": 20,
   "id": "9214e181",
   "metadata": {},
   "outputs": [
    {
     "data": {
      "text/plain": [
       "public_reference             0\n",
       "mileage                      0\n",
       "reg_code                 31844\n",
       "standard_colour           5368\n",
       "standard_make                0\n",
       "standard_model               0\n",
       "vehicle_condition            0\n",
       "year_of_registration     33292\n",
       "price                        0\n",
       "body_type                  836\n",
       "crossover_car_and_van        0\n",
       "fuel_type                  600\n",
       "dtype: int64"
      ]
     },
     "execution_count": 20,
     "metadata": {},
     "output_type": "execute_result"
    }
   ],
   "source": [
    "adverts_df.isnull().sum()"
   ]
  },
  {
   "cell_type": "code",
   "execution_count": 21,
   "id": "f295de64",
   "metadata": {},
   "outputs": [
    {
     "data": {
      "text/plain": [
       "count    4.018780e+05\n",
       "mean     1.734081e+04\n",
       "std      4.644190e+04\n",
       "min      1.200000e+02\n",
       "25%      7.495000e+03\n",
       "50%      1.260000e+04\n",
       "75%      2.000000e+04\n",
       "max      9.999999e+06\n",
       "Name: price, dtype: float64"
      ]
     },
     "execution_count": 21,
     "metadata": {},
     "output_type": "execute_result"
    }
   ],
   "source": [
    "adverts_df['price'].describe()"
   ]
  },
  {
   "cell_type": "code",
   "execution_count": 22,
   "id": "a2ec9109",
   "metadata": {},
   "outputs": [
    {
     "data": {
      "text/plain": [
       "<AxesSubplot:xlabel='price', ylabel='Count'>"
      ]
     },
     "execution_count": 22,
     "metadata": {},
     "output_type": "execute_result"
    },
    {
     "data": {
      "image/png": "[encoded data removed]",
      "text/plain": [
       "<Figure size 576x432 with 1 Axes>"
      ]
     },
     "metadata": {},
     "output_type": "display_data"
    }
   ],
   "source": [
    "sns.histplot(np.log10(adverts_df['price']), kde=True, bins=100)"
   ]
  },
  {
   "cell_type": "code",
   "execution_count": 23,
   "id": "fc4231e3",
   "metadata": {},
   "outputs": [],
   "source": [
    "adverts_df['price'] = adverts_df.groupby(['standard_make','standard_model'])['price'].apply(lambda x: x.fillna(x.mean()))"
   ]
  },
  {
   "cell_type": "code",
   "execution_count": 24,
   "id": "22f377e8",
   "metadata": {},
   "outputs": [
    {
     "data": {
      "text/plain": [
       "public_reference             0\n",
       "mileage                      0\n",
       "reg_code                 31844\n",
       "standard_colour           5368\n",
       "standard_make                0\n",
       "standard_model               0\n",
       "vehicle_condition            0\n",
       "year_of_registration     33292\n",
       "price                        0\n",
       "body_type                  836\n",
       "crossover_car_and_van        0\n",
       "fuel_type                  600\n",
       "dtype: int64"
      ]
     },
     "execution_count": 24,
     "metadata": {},
     "output_type": "execute_result"
    }
   ],
   "source": [
    "adverts_df.isnull().sum()"
   ]
  },
  {
   "cell_type": "markdown",
   "id": "27e96ba4",
   "metadata": {},
   "source": [
    "###TO REMOVE OUTLIERS IN THE DATASETS I WILL HAVE TO CALCULATE \"EACH\" COLUMN USING THE INTERQUATILE RANGE"
   ]
  },
  {
   "cell_type": "markdown",
   "id": "e92c563e",
   "metadata": {},
   "source": [
    "# PRICE COLUMN"
   ]
  },
  {
   "cell_type": "code",
   "execution_count": 25,
   "id": "1ee2c33c",
   "metadata": {},
   "outputs": [],
   "source": [
    "df1=adverts_df['price']"
   ]
  },
  {
   "cell_type": "code",
   "execution_count": 26,
   "id": "6dbe85b5",
   "metadata": {},
   "outputs": [],
   "source": [
    "#TO CALCULATE THE IQR\n",
    "Q1 = df1.quantile(0.25)\n",
    "Q3 = df1.quantile(0.75)\n",
    "IQR = Q3 - Q1\n",
    "\n",
    "\n",
    "#REMOVE OUTLIERS\n",
    "adverts_df = adverts_df[(adverts_df['price'] > Q1 - 1.5 *IQR) & (adverts_df['price'] < Q3 + 1.5 *IQR)]\n"
   ]
  },
  {
   "cell_type": "code",
   "execution_count": 27,
   "id": "c69cff82",
   "metadata": {},
   "outputs": [
    {
     "data": {
      "text/plain": [
       "count    375626.000000\n",
       "mean      13464.075325\n",
       "std        8332.866927\n",
       "min         120.000000\n",
       "25%        7000.000000\n",
       "50%       11990.000000\n",
       "75%       18210.750000\n",
       "max       38755.000000\n",
       "Name: price, dtype: float64"
      ]
     },
     "execution_count": 27,
     "metadata": {},
     "output_type": "execute_result"
    }
   ],
   "source": [
    "adverts_df['price'].describe()"
   ]
  },
  {
   "cell_type": "markdown",
   "id": "5187d4f5",
   "metadata": {},
   "source": [
    "# MILEAGE"
   ]
  },
  {
   "cell_type": "markdown",
   "id": "995dcf4c",
   "metadata": {},
   "source": [
    "##Mileage has a lot of outliers, i will remove outliers using the same process i did for price column"
   ]
  },
  {
   "cell_type": "code",
   "execution_count": 28,
   "id": "17fe2111",
   "metadata": {},
   "outputs": [],
   "source": [
    "df1=adverts_df['mileage']"
   ]
  },
  {
   "cell_type": "code",
   "execution_count": 29,
   "id": "8aacf90a",
   "metadata": {},
   "outputs": [],
   "source": [
    "#TO CALCULATE THE IQR\n",
    "Q1 = df1.quantile(0.25)\n",
    "Q3 = df1.quantile(0.75)\n",
    "IQR = Q3 - Q1\n",
    "\n",
    "#REMOVE OUTLIERS\n",
    "adverts_df = adverts_df[(adverts_df['mileage'] > Q1 - 1.5 *IQR) & (adverts_df['mileage'] < Q3 + 1.5 *IQR)]\n"
   ]
  },
  {
   "cell_type": "code",
   "execution_count": 30,
   "id": "c9fdaaea",
   "metadata": {},
   "outputs": [
    {
     "data": {
      "text/plain": [
       "count    368172.000000\n",
       "mean      37416.856314\n",
       "std       31052.339558\n",
       "min           0.000000\n",
       "25%       12300.000000\n",
       "50%       30000.000000\n",
       "75%       57000.000000\n",
       "max      128810.000000\n",
       "Name: mileage, dtype: float64"
      ]
     },
     "execution_count": 30,
     "metadata": {},
     "output_type": "execute_result"
    }
   ],
   "source": [
    "adverts_df['mileage'].describe()"
   ]
  },
  {
   "cell_type": "markdown",
   "id": "246a36eb",
   "metadata": {},
   "source": [
    "# Year Of Registration"
   ]
  },
  {
   "cell_type": "code",
   "execution_count": 31,
   "id": "c7bd91b7",
   "metadata": {
    "scrolled": true
   },
   "outputs": [
    {
     "data": {
      "text/plain": [
       "array([2011., 2017., 2016., 2015., 2013., 2008., 2010., 2019.,   nan,\n",
       "       2012., 2018., 2009., 2014., 2003., 2006., 2020., 2005., 2002.,\n",
       "       2000., 2007., 2004., 2001., 1986., 1998., 1993., 1999., 1994.,\n",
       "       1990., 1995., 1997., 1969., 1984., 1991., 1992., 1988., 1987.,\n",
       "       1989., 1996., 1980., 1967., 1972., 1968., 1970., 1979., 1933.,\n",
       "       1981., 1985., 1978., 1971., 1973., 1974., 1966., 1982., 1977.,\n",
       "       1983., 1965., 1976., 1007., 1957., 1515., 1063., 1975., 1964.,\n",
       "       1955., 1009., 1962., 1016., 1909., 1963., 1934., 1958., 1961.,\n",
       "       1010., 1950., 1008.,  999., 1956., 1954., 1960., 1017., 1952.,\n",
       "       1959., 1006., 1015.])"
      ]
     },
     "execution_count": 31,
     "metadata": {},
     "output_type": "execute_result"
    }
   ],
   "source": [
    "adverts_df['year_of_registration'].unique()\n"
   ]
  },
  {
   "cell_type": "markdown",
   "id": "fdf8fe48",
   "metadata": {},
   "source": [
    "##Checking of the unique values in the 'year_of_registration' column."
   ]
  },
  {
   "cell_type": "markdown",
   "id": "4178f789",
   "metadata": {},
   "source": [
    "##LOADING A SPECIFIED FILE AND CREATE A NEW DATAFRAME OBJECT FOR EASY MANIPULATION OF THE DATA"
   ]
  },
  {
   "cell_type": "code",
   "execution_count": 32,
   "id": "d438214d",
   "metadata": {
    "scrolled": true
   },
   "outputs": [
    {
     "data": {
      "text/html": [
       "<div>\n",
       "<style scoped>\n",
       "    .dataframe tbody tr th:only-of-type {\n",
       "        vertical-align: middle;\n",
       "    }\n",
       "\n",
       "    .dataframe tbody tr th {\n",
       "        vertical-align: top;\n",
       "    }\n",
       "\n",
       "    .dataframe thead th {\n",
       "        text-align: right;\n",
       "    }\n",
       "</style>\n",
       "<table border=\"1\" class=\"dataframe\">\n",
       "  <thead>\n",
       "    <tr style=\"text-align: right;\">\n",
       "      <th></th>\n",
       "      <th>Year</th>\n",
       "      <th>1 March – 31 August</th>\n",
       "      <th>1 September – 28/29 February</th>\n",
       "    </tr>\n",
       "  </thead>\n",
       "  <tbody>\n",
       "    <tr>\n",
       "      <th>0</th>\n",
       "      <td>2001/02</td>\n",
       "      <td>Y</td>\n",
       "      <td>51</td>\n",
       "    </tr>\n",
       "    <tr>\n",
       "      <th>1</th>\n",
       "      <td>2002/03</td>\n",
       "      <td>02</td>\n",
       "      <td>52</td>\n",
       "    </tr>\n",
       "    <tr>\n",
       "      <th>2</th>\n",
       "      <td>2003/04</td>\n",
       "      <td>03</td>\n",
       "      <td>53</td>\n",
       "    </tr>\n",
       "    <tr>\n",
       "      <th>3</th>\n",
       "      <td>2004/05</td>\n",
       "      <td>04</td>\n",
       "      <td>54</td>\n",
       "    </tr>\n",
       "    <tr>\n",
       "      <th>4</th>\n",
       "      <td>2005/06</td>\n",
       "      <td>05</td>\n",
       "      <td>55</td>\n",
       "    </tr>\n",
       "  </tbody>\n",
       "</table>\n",
       "</div>"
      ],
      "text/plain": [
       "      Year 1 March – 31 August  1 September – 28/29 February\n",
       "0  2001/02                   Y                            51\n",
       "1  2002/03                  02                            52\n",
       "2  2003/04                  03                            53\n",
       "3  2004/05                  04                            54\n",
       "4  2005/06                  05                            55"
      ]
     },
     "execution_count": 32,
     "metadata": {},
     "output_type": "execute_result"
    }
   ],
   "source": [
    "age_identifier_df = pd.read_csv('C:/Users/user/Downloads/Age_identifier_codes.xls')\n",
    "age_identifier_df.head(5)"
   ]
  },
  {
   "cell_type": "code",
   "execution_count": 33,
   "id": "dcbe8a3d",
   "metadata": {},
   "outputs": [
    {
     "data": {
      "text/plain": [
       "'Age_identifier_codes.xls'"
      ]
     },
     "execution_count": 33,
     "metadata": {},
     "output_type": "execute_result"
    }
   ],
   "source": [
    "('Age_identifier_codes.xls')"
   ]
  },
  {
   "cell_type": "code",
   "execution_count": 34,
   "id": "dbcaab52",
   "metadata": {},
   "outputs": [
    {
     "data": {
      "text/html": [
       "<div>\n",
       "<style scoped>\n",
       "    .dataframe tbody tr th:only-of-type {\n",
       "        vertical-align: middle;\n",
       "    }\n",
       "\n",
       "    .dataframe tbody tr th {\n",
       "        vertical-align: top;\n",
       "    }\n",
       "\n",
       "    .dataframe thead th {\n",
       "        text-align: right;\n",
       "    }\n",
       "</style>\n",
       "<table border=\"1\" class=\"dataframe\">\n",
       "  <thead>\n",
       "    <tr style=\"text-align: right;\">\n",
       "      <th></th>\n",
       "      <th>Year</th>\n",
       "      <th>1 March – 31 August</th>\n",
       "      <th>1 September – 28/29 February</th>\n",
       "    </tr>\n",
       "  </thead>\n",
       "  <tbody>\n",
       "    <tr>\n",
       "      <th>0</th>\n",
       "      <td>2001</td>\n",
       "      <td>Y</td>\n",
       "      <td>51</td>\n",
       "    </tr>\n",
       "    <tr>\n",
       "      <th>1</th>\n",
       "      <td>2002</td>\n",
       "      <td>02</td>\n",
       "      <td>52</td>\n",
       "    </tr>\n",
       "    <tr>\n",
       "      <th>2</th>\n",
       "      <td>2003</td>\n",
       "      <td>03</td>\n",
       "      <td>53</td>\n",
       "    </tr>\n",
       "    <tr>\n",
       "      <th>3</th>\n",
       "      <td>2004</td>\n",
       "      <td>04</td>\n",
       "      <td>54</td>\n",
       "    </tr>\n",
       "    <tr>\n",
       "      <th>4</th>\n",
       "      <td>2005</td>\n",
       "      <td>05</td>\n",
       "      <td>55</td>\n",
       "    </tr>\n",
       "  </tbody>\n",
       "</table>\n",
       "</div>"
      ],
      "text/plain": [
       "   Year 1 March – 31 August  1 September – 28/29 February\n",
       "0  2001                   Y                            51\n",
       "1  2002                  02                            52\n",
       "2  2003                  03                            53\n",
       "3  2004                  04                            54\n",
       "4  2005                  05                            55"
      ]
     },
     "execution_count": 34,
     "metadata": {},
     "output_type": "execute_result"
    }
   ],
   "source": [
    "# Split the year column to get the years before the \"/\" and assign it back to the year column\n",
    "age_identifier_df['Year'] = age_identifier_df['Year'].str.split('/',expand=True)[0]\n",
    "age_identifier_df.head(5)"
   ]
  },
  {
   "cell_type": "markdown",
   "id": "87419eb3",
   "metadata": {},
   "source": [
    "##Converting the values in ['1 September – 28/29 February'] column of the new dataframe imported to string using the apply() and the str() function."
   ]
  },
  {
   "cell_type": "code",
   "execution_count": 35,
   "id": "0dccc12e",
   "metadata": {},
   "outputs": [],
   "source": [
    "age_identifier_df['1 September – 28/29 February'] = age_identifier_df['1 September – 28/29 February'].apply(str)\n"
   ]
  },
  {
   "cell_type": "code",
   "execution_count": 36,
   "id": "69d025f7",
   "metadata": {},
   "outputs": [
    {
     "data": {
      "text/html": [
       "<div>\n",
       "<style scoped>\n",
       "    .dataframe tbody tr th:only-of-type {\n",
       "        vertical-align: middle;\n",
       "    }\n",
       "\n",
       "    .dataframe tbody tr th {\n",
       "        vertical-align: top;\n",
       "    }\n",
       "\n",
       "    .dataframe thead th {\n",
       "        text-align: right;\n",
       "    }\n",
       "</style>\n",
       "<table border=\"1\" class=\"dataframe\">\n",
       "  <thead>\n",
       "    <tr style=\"text-align: right;\">\n",
       "      <th></th>\n",
       "      <th>Letter</th>\n",
       "      <th>Dates of issue</th>\n",
       "    </tr>\n",
       "  </thead>\n",
       "  <tbody>\n",
       "    <tr>\n",
       "      <th>0</th>\n",
       "      <td>A</td>\n",
       "      <td>February 1963</td>\n",
       "    </tr>\n",
       "    <tr>\n",
       "      <th>1</th>\n",
       "      <td>B</td>\n",
       "      <td>1 January 1964 – 31 December 1964</td>\n",
       "    </tr>\n",
       "    <tr>\n",
       "      <th>2</th>\n",
       "      <td>C</td>\n",
       "      <td>1 January 1965 – 31 December 1965</td>\n",
       "    </tr>\n",
       "    <tr>\n",
       "      <th>3</th>\n",
       "      <td>D</td>\n",
       "      <td>1 January 1966 – 31 December 1966</td>\n",
       "    </tr>\n",
       "    <tr>\n",
       "      <th>4</th>\n",
       "      <td>E</td>\n",
       "      <td>1 January 1967 – 31 July 1967</td>\n",
       "    </tr>\n",
       "  </tbody>\n",
       "</table>\n",
       "</div>"
      ],
      "text/plain": [
       "  Letter                     Dates of issue\n",
       "0      A                      February 1963\n",
       "1      B  1 January 1964 – 31 December 1964\n",
       "2      C  1 January 1965 – 31 December 1965\n",
       "3      D  1 January 1966 – 31 December 1966\n",
       "4      E      1 January 1967 – 31 July 1967"
      ]
     },
     "execution_count": 36,
     "metadata": {},
     "output_type": "execute_result"
    }
   ],
   "source": [
    "year_identifier_df = pd.read_csv('C:/Users/user/Downloads/Year_identifier_codes.xls')\n",
    "year_identifier_df.head(5)"
   ]
  },
  {
   "cell_type": "code",
   "execution_count": 37,
   "id": "f5846653",
   "metadata": {},
   "outputs": [],
   "source": [
    "year_identifier_df['Year'] = year_identifier_df['Dates of issue'].str.split(' ', expand=True)[2]\n",
    "year_identifier_df['Year'][0] = 1963"
   ]
  },
  {
   "cell_type": "markdown",
   "id": "de5c96dd",
   "metadata": {},
   "source": [
    "##Extract the year from the 'Dates of issue' column and create a new column 'Year' with these values"
   ]
  },
  {
   "cell_type": "code",
   "execution_count": 38,
   "id": "dca47bb1",
   "metadata": {},
   "outputs": [
    {
     "data": {
      "text/html": [
       "<div>\n",
       "<style scoped>\n",
       "    .dataframe tbody tr th:only-of-type {\n",
       "        vertical-align: middle;\n",
       "    }\n",
       "\n",
       "    .dataframe tbody tr th {\n",
       "        vertical-align: top;\n",
       "    }\n",
       "\n",
       "    .dataframe thead th {\n",
       "        text-align: right;\n",
       "    }\n",
       "</style>\n",
       "<table border=\"1\" class=\"dataframe\">\n",
       "  <thead>\n",
       "    <tr style=\"text-align: right;\">\n",
       "      <th></th>\n",
       "      <th>Letter</th>\n",
       "      <th>Dates of issue</th>\n",
       "      <th>Year</th>\n",
       "    </tr>\n",
       "  </thead>\n",
       "  <tbody>\n",
       "    <tr>\n",
       "      <th>0</th>\n",
       "      <td>A</td>\n",
       "      <td>February 1963</td>\n",
       "      <td>1963</td>\n",
       "    </tr>\n",
       "    <tr>\n",
       "      <th>1</th>\n",
       "      <td>B</td>\n",
       "      <td>1 January 1964 – 31 December 1964</td>\n",
       "      <td>1964</td>\n",
       "    </tr>\n",
       "    <tr>\n",
       "      <th>2</th>\n",
       "      <td>C</td>\n",
       "      <td>1 January 1965 – 31 December 1965</td>\n",
       "      <td>1965</td>\n",
       "    </tr>\n",
       "    <tr>\n",
       "      <th>3</th>\n",
       "      <td>D</td>\n",
       "      <td>1 January 1966 – 31 December 1966</td>\n",
       "      <td>1966</td>\n",
       "    </tr>\n",
       "    <tr>\n",
       "      <th>4</th>\n",
       "      <td>E</td>\n",
       "      <td>1 January 1967 – 31 July 1967</td>\n",
       "      <td>1967</td>\n",
       "    </tr>\n",
       "  </tbody>\n",
       "</table>\n",
       "</div>"
      ],
      "text/plain": [
       "  Letter                     Dates of issue  Year\n",
       "0      A                      February 1963  1963\n",
       "1      B  1 January 1964 – 31 December 1964  1964\n",
       "2      C  1 January 1965 – 31 December 1965  1965\n",
       "3      D  1 January 1966 – 31 December 1966  1966\n",
       "4      E      1 January 1967 – 31 July 1967  1967"
      ]
     },
     "execution_count": 38,
     "metadata": {},
     "output_type": "execute_result"
    }
   ],
   "source": [
    "year_identifier_df.head()"
   ]
  },
  {
   "cell_type": "code",
   "execution_count": 39,
   "id": "4536f62d",
   "metadata": {},
   "outputs": [],
   "source": [
    "first_col = dict(zip(age_identifier_df['1 March – 31 August'], age_identifier_df['Year']))\n",
    "second_col = dict(zip(age_identifier_df['1 September – 28/29 February'], age_identifier_df['Year']))"
   ]
  },
  {
   "cell_type": "markdown",
   "id": "a7e69ff3",
   "metadata": {},
   "source": [
    "#Creating of two dictionaries, 'first_col' and 'second_col', from the data in the dataframe.\n",
    "#The 'zip()' function was used to combine the elements of two iterables."
   ]
  },
  {
   "cell_type": "code",
   "execution_count": 40,
   "id": "89056f71",
   "metadata": {},
   "outputs": [
    {
     "data": {
      "text/plain": [
       "({'Y': '2001',\n",
       "  '02': '2002',\n",
       "  '03': '2003',\n",
       "  '04': '2004',\n",
       "  '05': '2005',\n",
       "  '06': '2006',\n",
       "  '07': '2007',\n",
       "  '08': '2008',\n",
       "  '09': '2009',\n",
       "  '10': '2010',\n",
       "  '11': '2011',\n",
       "  '12': '2012',\n",
       "  '13': '2013',\n",
       "  '14': '2014',\n",
       "  '15': '2015',\n",
       "  '16': '2016',\n",
       "  '17': '2017',\n",
       "  '18': '2018',\n",
       "  '19': '2019',\n",
       "  '20': '2020',\n",
       "  '21': '2021',\n",
       "  '22': '2022',\n",
       "  '23': '2023',\n",
       "  '24': '2024',\n",
       "  '25': '2025',\n",
       "  '26': '2026',\n",
       "  '27': '2027',\n",
       "  '28': '2028',\n",
       "  '29': '2029',\n",
       "  '30': '2030',\n",
       "  '31': '2031',\n",
       "  '32': '2032',\n",
       "  '33': '2033',\n",
       "  '34': '2034',\n",
       "  '35': '2035',\n",
       "  '36': '2036',\n",
       "  '37': '2037',\n",
       "  '38': '2038',\n",
       "  '39': '2039',\n",
       "  '40': '2040',\n",
       "  '41': '2041',\n",
       "  '42': '2042',\n",
       "  '43': '2043',\n",
       "  '44': '2044',\n",
       "  '45': '2045',\n",
       "  '46': '2046',\n",
       "  '47': '2047',\n",
       "  '48': '2048',\n",
       "  '49': '2049',\n",
       "  '50': '2050'},\n",
       " {'51': '2001',\n",
       "  '52': '2002',\n",
       "  '53': '2003',\n",
       "  '54': '2004',\n",
       "  '55': '2005',\n",
       "  '56': '2006',\n",
       "  '57': '2007',\n",
       "  '58': '2008',\n",
       "  '59': '2009',\n",
       "  '60': '2010',\n",
       "  '61': '2011',\n",
       "  '62': '2012',\n",
       "  '63': '2013',\n",
       "  '64': '2014',\n",
       "  '65': '2015',\n",
       "  '66': '2016',\n",
       "  '67': '2017',\n",
       "  '68': '2018',\n",
       "  '69': '2019',\n",
       "  '70': '2020',\n",
       "  '71': '2021',\n",
       "  '72': '2022',\n",
       "  '73': '2023',\n",
       "  '74': '2024',\n",
       "  '75': '2025',\n",
       "  '76': '2026',\n",
       "  '77': '2027',\n",
       "  '78': '2028',\n",
       "  '79': '2029',\n",
       "  '80': '2030',\n",
       "  '81': '2031',\n",
       "  '82': '2032',\n",
       "  '83': '2033',\n",
       "  '84': '2034',\n",
       "  '85': '2035',\n",
       "  '86': '2036',\n",
       "  '87': '2037',\n",
       "  '88': '2038',\n",
       "  '89': '2039',\n",
       "  '90': '2040',\n",
       "  '91': '2041',\n",
       "  '92': '2042',\n",
       "  '93': '2043',\n",
       "  '94': '2044',\n",
       "  '95': '2045',\n",
       "  '96': '2046',\n",
       "  '97': '2047',\n",
       "  '98': '2048',\n",
       "  '99': '2049',\n",
       "  '0': '2050'})"
      ]
     },
     "execution_count": 40,
     "metadata": {},
     "output_type": "execute_result"
    }
   ],
   "source": [
    "first_col, second_col"
   ]
  },
  {
   "cell_type": "code",
   "execution_count": 41,
   "id": "cfb1902d",
   "metadata": {},
   "outputs": [],
   "source": [
    "def fill_year_of_registration(adverts_df):\n",
    "    adverts_df['year_of_registration'] = adverts_df['year_of_registration'].fillna(adverts_df['reg_code'].astype(str).map(first_col))\n",
    "    adverts_df['year_of_registration'] = adverts_df['year_of_registration'].fillna(adverts_df['reg_code'].astype(str).map(second_col))\n",
    "\n",
    "fill_year_of_registration(adverts_df)\n"
   ]
  },
  {
   "cell_type": "markdown",
   "id": "90834ac2",
   "metadata": {},
   "source": [
    "#The function above explains the filling of missing values in the 'year_of_registration' column.\n",
    "#The function maps 'reg_code' to 'year_of_registration' by using 'first_col' and 'second_col' and subsequently fills the missing values of 'year_of_registration' column in the DataFrame using the 'fillna()' method."
   ]
  },
  {
   "cell_type": "code",
   "execution_count": 42,
   "id": "465d36ac",
   "metadata": {},
   "outputs": [
    {
     "data": {
      "text/plain": [
       "23200"
      ]
     },
     "execution_count": 42,
     "metadata": {},
     "output_type": "execute_result"
    }
   ],
   "source": [
    "adverts_df['year_of_registration'].isnull().sum()"
   ]
  },
  {
   "cell_type": "code",
   "execution_count": 43,
   "id": "a2dc4295",
   "metadata": {},
   "outputs": [
    {
     "data": {
      "text/plain": [
       "NEW     22946\n",
       "USED      254\n",
       "Name: vehicle_condition, dtype: int64"
      ]
     },
     "execution_count": 43,
     "metadata": {},
     "output_type": "execute_result"
    }
   ],
   "source": [
    "adverts_df[adverts_df['year_of_registration'].isnull()]['vehicle_condition'].value_counts()"
   ]
  },
  {
   "cell_type": "markdown",
   "id": "4e05792c",
   "metadata": {},
   "source": [
    "It fills the missing data in year_of_registration in the 'adverts_df' dataframe using data from the column 'reg_code' and then, it counts the missing values in year_of_registration and 'vehicle_condition' column. "
   ]
  },
  {
   "cell_type": "code",
   "execution_count": 44,
   "id": "3928407a",
   "metadata": {},
   "outputs": [
    {
     "data": {
      "text/plain": [
       "array(['NEW', 'USED'], dtype=object)"
      ]
     },
     "execution_count": 44,
     "metadata": {},
     "output_type": "execute_result"
    }
   ],
   "source": [
    "adverts_df[adverts_df['year_of_registration'].isnull()]['vehicle_condition'].unique()\n"
   ]
  },
  {
   "cell_type": "markdown",
   "id": "0a52395c",
   "metadata": {},
   "source": [
    "Checking the unique values of the 'vehicle_condition' column for the rows where the 'year_of_registration' column has missing values in the datadrame."
   ]
  },
  {
   "cell_type": "code",
   "execution_count": 45,
   "id": "b3efb214",
   "metadata": {},
   "outputs": [
    {
     "data": {
      "text/plain": [
       "0    2017.0\n",
       "dtype: object"
      ]
     },
     "execution_count": 45,
     "metadata": {},
     "output_type": "execute_result"
    }
   ],
   "source": [
    " adverts_df[adverts_df['vehicle_condition']=='USED']['year_of_registration'].mode()\n"
   ]
  },
  {
   "cell_type": "markdown",
   "id": "a1bc0748",
   "metadata": {},
   "source": [
    "#Filling the missing values in the year_of_registration with the year 2017 "
   ]
  },
  {
   "cell_type": "code",
   "execution_count": 46,
   "id": "572e36d7",
   "metadata": {
    "scrolled": true
   },
   "outputs": [],
   "source": [
    "adverts_df.loc[(adverts_df['year_of_registration'].isnull()) & (adverts_df['reg_code'].isnull()), 'year_of_registration'] = 2017"
   ]
  },
  {
   "cell_type": "code",
   "execution_count": 47,
   "id": "f1208173",
   "metadata": {},
   "outputs": [
    {
     "data": {
      "text/html": [
       "<div>\n",
       "<style scoped>\n",
       "    .dataframe tbody tr th:only-of-type {\n",
       "        vertical-align: middle;\n",
       "    }\n",
       "\n",
       "    .dataframe tbody tr th {\n",
       "        vertical-align: top;\n",
       "    }\n",
       "\n",
       "    .dataframe thead th {\n",
       "        text-align: right;\n",
       "    }\n",
       "</style>\n",
       "<table border=\"1\" class=\"dataframe\">\n",
       "  <thead>\n",
       "    <tr style=\"text-align: right;\">\n",
       "      <th></th>\n",
       "      <th>public_reference</th>\n",
       "      <th>mileage</th>\n",
       "      <th>reg_code</th>\n",
       "      <th>standard_colour</th>\n",
       "      <th>standard_make</th>\n",
       "      <th>standard_model</th>\n",
       "      <th>vehicle_condition</th>\n",
       "      <th>year_of_registration</th>\n",
       "      <th>price</th>\n",
       "      <th>body_type</th>\n",
       "      <th>crossover_car_and_van</th>\n",
       "      <th>fuel_type</th>\n",
       "    </tr>\n",
       "  </thead>\n",
       "  <tbody>\n",
       "    <tr>\n",
       "      <th>10044</th>\n",
       "      <td>202003098187902</td>\n",
       "      <td>73330.0</td>\n",
       "      <td>B</td>\n",
       "      <td>Gold</td>\n",
       "      <td>Jaguar</td>\n",
       "      <td>Mark II</td>\n",
       "      <td>USED</td>\n",
       "      <td>NaN</td>\n",
       "      <td>24990</td>\n",
       "      <td>Saloon</td>\n",
       "      <td>False</td>\n",
       "      <td>Petrol</td>\n",
       "    </tr>\n",
       "    <tr>\n",
       "      <th>16619</th>\n",
       "      <td>202010165086036</td>\n",
       "      <td>34000.0</td>\n",
       "      <td>P</td>\n",
       "      <td>Orange</td>\n",
       "      <td>Volkswagen</td>\n",
       "      <td>Campervan</td>\n",
       "      <td>USED</td>\n",
       "      <td>NaN</td>\n",
       "      <td>12500</td>\n",
       "      <td>Camper</td>\n",
       "      <td>False</td>\n",
       "      <td>Petrol</td>\n",
       "    </tr>\n",
       "    <tr>\n",
       "      <th>28307</th>\n",
       "      <td>202003218665171</td>\n",
       "      <td>55400.0</td>\n",
       "      <td>E</td>\n",
       "      <td>White</td>\n",
       "      <td>Renault</td>\n",
       "      <td>GTA</td>\n",
       "      <td>USED</td>\n",
       "      <td>NaN</td>\n",
       "      <td>12495</td>\n",
       "      <td>Coupe</td>\n",
       "      <td>False</td>\n",
       "      <td>Petrol</td>\n",
       "    </tr>\n",
       "    <tr>\n",
       "      <th>50188</th>\n",
       "      <td>202009304378374</td>\n",
       "      <td>24500.0</td>\n",
       "      <td>R</td>\n",
       "      <td>Blue</td>\n",
       "      <td>Mazda</td>\n",
       "      <td>Mazda3</td>\n",
       "      <td>USED</td>\n",
       "      <td>NaN</td>\n",
       "      <td>13495</td>\n",
       "      <td>Hatchback</td>\n",
       "      <td>False</td>\n",
       "      <td>Petrol</td>\n",
       "    </tr>\n",
       "    <tr>\n",
       "      <th>50961</th>\n",
       "      <td>202010215260465</td>\n",
       "      <td>49000.0</td>\n",
       "      <td>L</td>\n",
       "      <td>Blue</td>\n",
       "      <td>Chevrolet</td>\n",
       "      <td>SSR</td>\n",
       "      <td>USED</td>\n",
       "      <td>NaN</td>\n",
       "      <td>21500</td>\n",
       "      <td>Pickup</td>\n",
       "      <td>False</td>\n",
       "      <td>Bi Fuel</td>\n",
       "    </tr>\n",
       "    <tr>\n",
       "      <th>80899</th>\n",
       "      <td>202010014455127</td>\n",
       "      <td>2000.0</td>\n",
       "      <td>CA</td>\n",
       "      <td>Green</td>\n",
       "      <td>Caterham</td>\n",
       "      <td>Seven</td>\n",
       "      <td>USED</td>\n",
       "      <td>NaN</td>\n",
       "      <td>21995</td>\n",
       "      <td>Convertible</td>\n",
       "      <td>False</td>\n",
       "      <td>Petrol</td>\n",
       "    </tr>\n",
       "    <tr>\n",
       "      <th>85202</th>\n",
       "      <td>202009234126186</td>\n",
       "      <td>99123.0</td>\n",
       "      <td>B</td>\n",
       "      <td>Green</td>\n",
       "      <td>Land Rover</td>\n",
       "      <td>Series III</td>\n",
       "      <td>USED</td>\n",
       "      <td>NaN</td>\n",
       "      <td>12000</td>\n",
       "      <td>Pickup</td>\n",
       "      <td>True</td>\n",
       "      <td>Petrol</td>\n",
       "    </tr>\n",
       "    <tr>\n",
       "      <th>95640</th>\n",
       "      <td>202010215267071</td>\n",
       "      <td>55389.0</td>\n",
       "      <td>E</td>\n",
       "      <td>Grey</td>\n",
       "      <td>Mercedes-Benz</td>\n",
       "      <td>E Class</td>\n",
       "      <td>USED</td>\n",
       "      <td>NaN</td>\n",
       "      <td>25990</td>\n",
       "      <td>Coupe</td>\n",
       "      <td>False</td>\n",
       "      <td>Diesel</td>\n",
       "    </tr>\n",
       "    <tr>\n",
       "      <th>121673</th>\n",
       "      <td>202010315654601</td>\n",
       "      <td>76066.0</td>\n",
       "      <td>L</td>\n",
       "      <td>Red</td>\n",
       "      <td>BMW</td>\n",
       "      <td>3 Series</td>\n",
       "      <td>USED</td>\n",
       "      <td>NaN</td>\n",
       "      <td>8990</td>\n",
       "      <td>Convertible</td>\n",
       "      <td>False</td>\n",
       "      <td>Petrol</td>\n",
       "    </tr>\n",
       "    <tr>\n",
       "      <th>147774</th>\n",
       "      <td>202011015662169</td>\n",
       "      <td>49500.0</td>\n",
       "      <td>J</td>\n",
       "      <td>Silver</td>\n",
       "      <td>Mercedes-Benz</td>\n",
       "      <td>CL</td>\n",
       "      <td>USED</td>\n",
       "      <td>NaN</td>\n",
       "      <td>11995</td>\n",
       "      <td>Coupe</td>\n",
       "      <td>False</td>\n",
       "      <td>Petrol</td>\n",
       "    </tr>\n",
       "    <tr>\n",
       "      <th>149562</th>\n",
       "      <td>202008283044857</td>\n",
       "      <td>58000.0</td>\n",
       "      <td>H</td>\n",
       "      <td>Brown</td>\n",
       "      <td>Jaguar</td>\n",
       "      <td>XJ</td>\n",
       "      <td>USED</td>\n",
       "      <td>NaN</td>\n",
       "      <td>9995</td>\n",
       "      <td>Saloon</td>\n",
       "      <td>False</td>\n",
       "      <td>Petrol</td>\n",
       "    </tr>\n",
       "    <tr>\n",
       "      <th>150395</th>\n",
       "      <td>202010235347957</td>\n",
       "      <td>75370.0</td>\n",
       "      <td>S</td>\n",
       "      <td>White</td>\n",
       "      <td>Audi</td>\n",
       "      <td>80</td>\n",
       "      <td>USED</td>\n",
       "      <td>NaN</td>\n",
       "      <td>3699</td>\n",
       "      <td>NaN</td>\n",
       "      <td>False</td>\n",
       "      <td>Petrol</td>\n",
       "    </tr>\n",
       "    <tr>\n",
       "      <th>172544</th>\n",
       "      <td>202007121159263</td>\n",
       "      <td>13101.0</td>\n",
       "      <td>F</td>\n",
       "      <td>Grey</td>\n",
       "      <td>Fiat</td>\n",
       "      <td>500</td>\n",
       "      <td>USED</td>\n",
       "      <td>NaN</td>\n",
       "      <td>12995</td>\n",
       "      <td>Saloon</td>\n",
       "      <td>False</td>\n",
       "      <td>Petrol</td>\n",
       "    </tr>\n",
       "    <tr>\n",
       "      <th>183144</th>\n",
       "      <td>202003238705200</td>\n",
       "      <td>112000.0</td>\n",
       "      <td>N</td>\n",
       "      <td>Black</td>\n",
       "      <td>Mercedes-Benz</td>\n",
       "      <td>E Class</td>\n",
       "      <td>USED</td>\n",
       "      <td>NaN</td>\n",
       "      <td>8145</td>\n",
       "      <td>Convertible</td>\n",
       "      <td>False</td>\n",
       "      <td>Petrol</td>\n",
       "    </tr>\n",
       "    <tr>\n",
       "      <th>198995</th>\n",
       "      <td>202010285544711</td>\n",
       "      <td>106178.0</td>\n",
       "      <td>S</td>\n",
       "      <td>Blue</td>\n",
       "      <td>Nissan</td>\n",
       "      <td>Almera</td>\n",
       "      <td>USED</td>\n",
       "      <td>NaN</td>\n",
       "      <td>675</td>\n",
       "      <td>Hatchback</td>\n",
       "      <td>False</td>\n",
       "      <td>Petrol</td>\n",
       "    </tr>\n",
       "    <tr>\n",
       "      <th>200702</th>\n",
       "      <td>202010275476622</td>\n",
       "      <td>99000.0</td>\n",
       "      <td>V</td>\n",
       "      <td>Blue</td>\n",
       "      <td>Volkswagen</td>\n",
       "      <td>California</td>\n",
       "      <td>USED</td>\n",
       "      <td>NaN</td>\n",
       "      <td>27500</td>\n",
       "      <td>Camper</td>\n",
       "      <td>True</td>\n",
       "      <td>Diesel</td>\n",
       "    </tr>\n",
       "    <tr>\n",
       "      <th>259136</th>\n",
       "      <td>202010235355514</td>\n",
       "      <td>106000.0</td>\n",
       "      <td>M</td>\n",
       "      <td>NaN</td>\n",
       "      <td>Bentley</td>\n",
       "      <td>T Series</td>\n",
       "      <td>USED</td>\n",
       "      <td>NaN</td>\n",
       "      <td>17500</td>\n",
       "      <td>Saloon</td>\n",
       "      <td>False</td>\n",
       "      <td>Petrol</td>\n",
       "    </tr>\n",
       "    <tr>\n",
       "      <th>261404</th>\n",
       "      <td>202010235370841</td>\n",
       "      <td>44000.0</td>\n",
       "      <td>R</td>\n",
       "      <td>Yellow</td>\n",
       "      <td>MG</td>\n",
       "      <td>MGB GT</td>\n",
       "      <td>USED</td>\n",
       "      <td>NaN</td>\n",
       "      <td>6500</td>\n",
       "      <td>Coupe</td>\n",
       "      <td>False</td>\n",
       "      <td>Petrol</td>\n",
       "    </tr>\n",
       "    <tr>\n",
       "      <th>267071</th>\n",
       "      <td>202006220384634</td>\n",
       "      <td>30915.0</td>\n",
       "      <td>G</td>\n",
       "      <td>Blue</td>\n",
       "      <td>Land Rover</td>\n",
       "      <td>Series II</td>\n",
       "      <td>USED</td>\n",
       "      <td>NaN</td>\n",
       "      <td>30000</td>\n",
       "      <td>Estate</td>\n",
       "      <td>False</td>\n",
       "      <td>Petrol</td>\n",
       "    </tr>\n",
       "    <tr>\n",
       "      <th>276795</th>\n",
       "      <td>202006300690337</td>\n",
       "      <td>90000.0</td>\n",
       "      <td>F</td>\n",
       "      <td>Red</td>\n",
       "      <td>MG</td>\n",
       "      <td>MGC</td>\n",
       "      <td>USED</td>\n",
       "      <td>NaN</td>\n",
       "      <td>21990</td>\n",
       "      <td>Convertible</td>\n",
       "      <td>False</td>\n",
       "      <td>Petrol</td>\n",
       "    </tr>\n",
       "    <tr>\n",
       "      <th>301367</th>\n",
       "      <td>202010245384152</td>\n",
       "      <td>79000.0</td>\n",
       "      <td>M</td>\n",
       "      <td>Red</td>\n",
       "      <td>Jaguar</td>\n",
       "      <td>XJS</td>\n",
       "      <td>USED</td>\n",
       "      <td>NaN</td>\n",
       "      <td>12995</td>\n",
       "      <td>NaN</td>\n",
       "      <td>False</td>\n",
       "      <td>Petrol</td>\n",
       "    </tr>\n",
       "    <tr>\n",
       "      <th>318433</th>\n",
       "      <td>202008192660449</td>\n",
       "      <td>90000.0</td>\n",
       "      <td>A</td>\n",
       "      <td>Green</td>\n",
       "      <td>Mercedes-Benz</td>\n",
       "      <td>380</td>\n",
       "      <td>USED</td>\n",
       "      <td>NaN</td>\n",
       "      <td>25950</td>\n",
       "      <td>Convertible</td>\n",
       "      <td>False</td>\n",
       "      <td>Petrol</td>\n",
       "    </tr>\n",
       "    <tr>\n",
       "      <th>331435</th>\n",
       "      <td>202010235339385</td>\n",
       "      <td>31500.0</td>\n",
       "      <td>M</td>\n",
       "      <td>Green</td>\n",
       "      <td>Morgan</td>\n",
       "      <td>Plus Four</td>\n",
       "      <td>USED</td>\n",
       "      <td>NaN</td>\n",
       "      <td>25995</td>\n",
       "      <td>Convertible</td>\n",
       "      <td>False</td>\n",
       "      <td>Petrol</td>\n",
       "    </tr>\n",
       "    <tr>\n",
       "      <th>339049</th>\n",
       "      <td>202010175118726</td>\n",
       "      <td>70986.0</td>\n",
       "      <td>D</td>\n",
       "      <td>Red</td>\n",
       "      <td>Jaguar</td>\n",
       "      <td>Mark II</td>\n",
       "      <td>USED</td>\n",
       "      <td>NaN</td>\n",
       "      <td>23990</td>\n",
       "      <td>Saloon</td>\n",
       "      <td>False</td>\n",
       "      <td>Petrol</td>\n",
       "    </tr>\n",
       "  </tbody>\n",
       "</table>\n",
       "</div>"
      ],
      "text/plain": [
       "        public_reference   mileage reg_code standard_colour  standard_make  \\\n",
       "10044    202003098187902   73330.0        B            Gold         Jaguar   \n",
       "16619    202010165086036   34000.0        P          Orange     Volkswagen   \n",
       "28307    202003218665171   55400.0        E           White        Renault   \n",
       "50188    202009304378374   24500.0        R            Blue          Mazda   \n",
       "50961    202010215260465   49000.0        L            Blue      Chevrolet   \n",
       "80899    202010014455127    2000.0       CA           Green       Caterham   \n",
       "85202    202009234126186   99123.0        B           Green     Land Rover   \n",
       "95640    202010215267071   55389.0        E            Grey  Mercedes-Benz   \n",
       "121673   202010315654601   76066.0        L             Red            BMW   \n",
       "147774   202011015662169   49500.0        J          Silver  Mercedes-Benz   \n",
       "149562   202008283044857   58000.0        H           Brown         Jaguar   \n",
       "150395   202010235347957   75370.0        S           White           Audi   \n",
       "172544   202007121159263   13101.0        F            Grey           Fiat   \n",
       "183144   202003238705200  112000.0        N           Black  Mercedes-Benz   \n",
       "198995   202010285544711  106178.0        S            Blue         Nissan   \n",
       "200702   202010275476622   99000.0        V            Blue     Volkswagen   \n",
       "259136   202010235355514  106000.0        M             NaN        Bentley   \n",
       "261404   202010235370841   44000.0        R          Yellow             MG   \n",
       "267071   202006220384634   30915.0        G            Blue     Land Rover   \n",
       "276795   202006300690337   90000.0        F             Red             MG   \n",
       "301367   202010245384152   79000.0        M             Red         Jaguar   \n",
       "318433   202008192660449   90000.0        A           Green  Mercedes-Benz   \n",
       "331435   202010235339385   31500.0        M           Green         Morgan   \n",
       "339049   202010175118726   70986.0        D             Red         Jaguar   \n",
       "\n",
       "       standard_model vehicle_condition year_of_registration  price  \\\n",
       "10044         Mark II              USED                  NaN  24990   \n",
       "16619       Campervan              USED                  NaN  12500   \n",
       "28307             GTA              USED                  NaN  12495   \n",
       "50188          Mazda3              USED                  NaN  13495   \n",
       "50961             SSR              USED                  NaN  21500   \n",
       "80899           Seven              USED                  NaN  21995   \n",
       "85202      Series III              USED                  NaN  12000   \n",
       "95640         E Class              USED                  NaN  25990   \n",
       "121673       3 Series              USED                  NaN   8990   \n",
       "147774             CL              USED                  NaN  11995   \n",
       "149562             XJ              USED                  NaN   9995   \n",
       "150395             80              USED                  NaN   3699   \n",
       "172544            500              USED                  NaN  12995   \n",
       "183144        E Class              USED                  NaN   8145   \n",
       "198995         Almera              USED                  NaN    675   \n",
       "200702     California              USED                  NaN  27500   \n",
       "259136       T Series              USED                  NaN  17500   \n",
       "261404         MGB GT              USED                  NaN   6500   \n",
       "267071      Series II              USED                  NaN  30000   \n",
       "276795            MGC              USED                  NaN  21990   \n",
       "301367            XJS              USED                  NaN  12995   \n",
       "318433            380              USED                  NaN  25950   \n",
       "331435      Plus Four              USED                  NaN  25995   \n",
       "339049        Mark II              USED                  NaN  23990   \n",
       "\n",
       "          body_type  crossover_car_and_van fuel_type  \n",
       "10044        Saloon                  False    Petrol  \n",
       "16619        Camper                  False    Petrol  \n",
       "28307         Coupe                  False    Petrol  \n",
       "50188     Hatchback                  False    Petrol  \n",
       "50961        Pickup                  False   Bi Fuel  \n",
       "80899   Convertible                  False    Petrol  \n",
       "85202        Pickup                   True    Petrol  \n",
       "95640         Coupe                  False    Diesel  \n",
       "121673  Convertible                  False    Petrol  \n",
       "147774        Coupe                  False    Petrol  \n",
       "149562       Saloon                  False    Petrol  \n",
       "150395          NaN                  False    Petrol  \n",
       "172544       Saloon                  False    Petrol  \n",
       "183144  Convertible                  False    Petrol  \n",
       "198995    Hatchback                  False    Petrol  \n",
       "200702       Camper                   True    Diesel  \n",
       "259136       Saloon                  False    Petrol  \n",
       "261404        Coupe                  False    Petrol  \n",
       "267071       Estate                  False    Petrol  \n",
       "276795  Convertible                  False    Petrol  \n",
       "301367          NaN                  False    Petrol  \n",
       "318433  Convertible                  False    Petrol  \n",
       "331435  Convertible                  False    Petrol  \n",
       "339049       Saloon                  False    Petrol  "
      ]
     },
     "execution_count": 47,
     "metadata": {},
     "output_type": "execute_result"
    }
   ],
   "source": [
    "adverts_df[adverts_df['year_of_registration'].isnull()]"
   ]
  },
  {
   "cell_type": "markdown",
   "id": "86a98b94",
   "metadata": {},
   "source": [
    "##Filling of letters in the reg codes coLumn"
   ]
  },
  {
   "cell_type": "code",
   "execution_count": 48,
   "id": "bfb29dd6",
   "metadata": {},
   "outputs": [],
   "source": [
    "year_dict = dict(zip(year_identifier_df['Letter'], year_identifier_df['Year']))"
   ]
  },
  {
   "cell_type": "code",
   "execution_count": 49,
   "id": "6e189d01",
   "metadata": {},
   "outputs": [
    {
     "data": {
      "text/plain": [
       "24"
      ]
     },
     "execution_count": 49,
     "metadata": {},
     "output_type": "execute_result"
    }
   ],
   "source": [
    "adverts_df['year_of_registration'].isnull().sum()"
   ]
  },
  {
   "cell_type": "code",
   "execution_count": 50,
   "id": "c0bd9f74",
   "metadata": {},
   "outputs": [],
   "source": [
    "adverts_df = adverts_df[adverts_df['year_of_registration'].notnull()]"
   ]
  },
  {
   "cell_type": "code",
   "execution_count": 51,
   "id": "e13f56cd",
   "metadata": {},
   "outputs": [
    {
     "data": {
      "text/plain": [
       "public_reference             0\n",
       "mileage                      0\n",
       "reg_code                 23377\n",
       "standard_colour           4319\n",
       "standard_make                0\n",
       "standard_model               0\n",
       "vehicle_condition            0\n",
       "year_of_registration         0\n",
       "price                        0\n",
       "body_type                  685\n",
       "crossover_car_and_van        0\n",
       "fuel_type                  447\n",
       "dtype: int64"
      ]
     },
     "execution_count": 51,
     "metadata": {},
     "output_type": "execute_result"
    }
   ],
   "source": [
    "adverts_df.isnull().sum()"
   ]
  },
  {
   "cell_type": "markdown",
   "id": "790c11f3",
   "metadata": {},
   "source": [
    "#Using the mode of standard colour to fill in the missing values."
   ]
  },
  {
   "cell_type": "code",
   "execution_count": 52,
   "id": "d34c8b6d",
   "metadata": {},
   "outputs": [],
   "source": [
    "adverts_df['standard_colour'] = adverts_df['standard_colour'].fillna(adverts_df['standard_colour'].mode()[0])"
   ]
  },
  {
   "cell_type": "code",
   "execution_count": 53,
   "id": "84cebd0e",
   "metadata": {},
   "outputs": [
    {
     "data": {
      "text/plain": [
       "0"
      ]
     },
     "execution_count": 53,
     "metadata": {},
     "output_type": "execute_result"
    }
   ],
   "source": [
    "adverts_df['standard_colour'].isnull().sum()"
   ]
  },
  {
   "cell_type": "code",
   "execution_count": 54,
   "id": "a514e69b",
   "metadata": {},
   "outputs": [
    {
     "data": {
      "text/plain": [
       "public_reference             0\n",
       "mileage                      0\n",
       "reg_code                 23377\n",
       "standard_colour              0\n",
       "standard_make                0\n",
       "standard_model               0\n",
       "vehicle_condition            0\n",
       "year_of_registration         0\n",
       "price                        0\n",
       "body_type                  685\n",
       "crossover_car_and_van        0\n",
       "fuel_type                  447\n",
       "dtype: int64"
      ]
     },
     "execution_count": 54,
     "metadata": {},
     "output_type": "execute_result"
    }
   ],
   "source": [
    "adverts_df.isnull().sum()"
   ]
  },
  {
   "cell_type": "markdown",
   "id": "92031f51",
   "metadata": {},
   "source": [
    "#Calculate the overall mode of the \"body-type\" column"
   ]
  },
  {
   "cell_type": "code",
   "execution_count": 55,
   "id": "6a82a4e9",
   "metadata": {},
   "outputs": [],
   "source": [
    "mode = adverts_df['body_type'].mode()[0]"
   ]
  },
  {
   "cell_type": "code",
   "execution_count": 56,
   "id": "2bc57119",
   "metadata": {},
   "outputs": [
    {
     "name": "stdout",
     "output_type": "stream",
     "text": [
      "Hatchback\n"
     ]
    }
   ],
   "source": [
    "print(mode)"
   ]
  },
  {
   "cell_type": "markdown",
   "id": "d219ed7f",
   "metadata": {},
   "source": [
    "#Using the 'fillna()' method to fill the missing values in the 'body_type' column\n"
   ]
  },
  {
   "cell_type": "code",
   "execution_count": 57,
   "id": "e049f563",
   "metadata": {},
   "outputs": [],
   "source": [
    "adverts_df['body_type'] = adverts_df['body_type'].fillna(mode)"
   ]
  },
  {
   "cell_type": "markdown",
   "id": "b1b81abf",
   "metadata": {},
   "source": [
    "Using this code it will fill in the missing values in the body_type column with the overall mode of the body_type"
   ]
  },
  {
   "cell_type": "code",
   "execution_count": 58,
   "id": "f6eca542",
   "metadata": {},
   "outputs": [
    {
     "data": {
      "text/plain": [
       "public_reference             0\n",
       "mileage                      0\n",
       "reg_code                 23377\n",
       "standard_colour              0\n",
       "standard_make                0\n",
       "standard_model               0\n",
       "vehicle_condition            0\n",
       "year_of_registration         0\n",
       "price                        0\n",
       "body_type                    0\n",
       "crossover_car_and_van        0\n",
       "fuel_type                  447\n",
       "dtype: int64"
      ]
     },
     "execution_count": 58,
     "metadata": {},
     "output_type": "execute_result"
    }
   ],
   "source": [
    "adverts_df.isna().sum()"
   ]
  },
  {
   "cell_type": "code",
   "execution_count": 59,
   "id": "df45c028",
   "metadata": {},
   "outputs": [
    {
     "data": {
      "text/plain": [
       "array(['Diesel', 'Petrol', 'Diesel Hybrid', 'Petrol Plug-in Hybrid',\n",
       "       'Petrol Hybrid', 'Electric', 'Diesel Plug-in Hybrid', nan,\n",
       "       'Bi Fuel'], dtype=object)"
      ]
     },
     "execution_count": 59,
     "metadata": {},
     "output_type": "execute_result"
    }
   ],
   "source": [
    "adverts_df['fuel_type'].unique()"
   ]
  },
  {
   "cell_type": "markdown",
   "id": "796ab8cf",
   "metadata": {},
   "source": [
    "#Used to get all distinct values present in the column 'fuel_type' of dataframe\n",
    "\n",
    "#The fueltype of the cars in the datasets are unique. So filling the missing values with the mode and median function is not the best. Therefore; i will be dropping all the missing values in this feature. "
   ]
  },
  {
   "cell_type": "markdown",
   "id": "edfc988e",
   "metadata": {},
   "source": [
    "#I noticed the \"noise\" in the year_of_registration data and i replaced it with the actual value that should be there."
   ]
  },
  {
   "cell_type": "code",
   "execution_count": 60,
   "id": "7e65816d",
   "metadata": {},
   "outputs": [
    {
     "data": {
      "text/plain": [
       "public_reference             0\n",
       "mileage                      0\n",
       "reg_code                 23377\n",
       "standard_colour              0\n",
       "standard_make                0\n",
       "standard_model               0\n",
       "vehicle_condition            0\n",
       "year_of_registration         0\n",
       "price                        0\n",
       "body_type                    0\n",
       "crossover_car_and_van        0\n",
       "fuel_type                  447\n",
       "dtype: int64"
      ]
     },
     "execution_count": 60,
     "metadata": {},
     "output_type": "execute_result"
    }
   ],
   "source": [
    "adverts_df.isnull().sum()"
   ]
  },
  {
   "cell_type": "markdown",
   "id": "e689ad1b",
   "metadata": {},
   "source": [
    "#At this stage, i am dropping all the missing values in my datasets."
   ]
  },
  {
   "cell_type": "code",
   "execution_count": 61,
   "id": "4ba8c938",
   "metadata": {},
   "outputs": [],
   "source": [
    "adverts_df=adverts_df.dropna()"
   ]
  },
  {
   "cell_type": "markdown",
   "id": "4116ce03",
   "metadata": {},
   "source": [
    "#It removes all the rows containing missing values from the Dataframe."
   ]
  },
  {
   "cell_type": "code",
   "execution_count": 62,
   "id": "d07950df",
   "metadata": {},
   "outputs": [
    {
     "data": {
      "text/html": [
       "<div>\n",
       "<style scoped>\n",
       "    .dataframe tbody tr th:only-of-type {\n",
       "        vertical-align: middle;\n",
       "    }\n",
       "\n",
       "    .dataframe tbody tr th {\n",
       "        vertical-align: top;\n",
       "    }\n",
       "\n",
       "    .dataframe thead th {\n",
       "        text-align: right;\n",
       "    }\n",
       "</style>\n",
       "<table border=\"1\" class=\"dataframe\">\n",
       "  <thead>\n",
       "    <tr style=\"text-align: right;\">\n",
       "      <th></th>\n",
       "      <th>public_reference</th>\n",
       "      <th>mileage</th>\n",
       "      <th>reg_code</th>\n",
       "      <th>standard_colour</th>\n",
       "      <th>standard_make</th>\n",
       "      <th>standard_model</th>\n",
       "      <th>vehicle_condition</th>\n",
       "      <th>year_of_registration</th>\n",
       "      <th>price</th>\n",
       "      <th>body_type</th>\n",
       "      <th>crossover_car_and_van</th>\n",
       "      <th>fuel_type</th>\n",
       "    </tr>\n",
       "  </thead>\n",
       "  <tbody>\n",
       "    <tr>\n",
       "      <th>1</th>\n",
       "      <td>202007020778260</td>\n",
       "      <td>108230.0</td>\n",
       "      <td>61</td>\n",
       "      <td>Blue</td>\n",
       "      <td>Jaguar</td>\n",
       "      <td>XF</td>\n",
       "      <td>USED</td>\n",
       "      <td>2011.0</td>\n",
       "      <td>7000</td>\n",
       "      <td>Saloon</td>\n",
       "      <td>False</td>\n",
       "      <td>Diesel</td>\n",
       "    </tr>\n",
       "    <tr>\n",
       "      <th>2</th>\n",
       "      <td>202007020778474</td>\n",
       "      <td>7800.0</td>\n",
       "      <td>17</td>\n",
       "      <td>Grey</td>\n",
       "      <td>SKODA</td>\n",
       "      <td>Yeti</td>\n",
       "      <td>USED</td>\n",
       "      <td>2017.0</td>\n",
       "      <td>14000</td>\n",
       "      <td>SUV</td>\n",
       "      <td>False</td>\n",
       "      <td>Petrol</td>\n",
       "    </tr>\n",
       "    <tr>\n",
       "      <th>3</th>\n",
       "      <td>202007080986776</td>\n",
       "      <td>45000.0</td>\n",
       "      <td>16</td>\n",
       "      <td>Brown</td>\n",
       "      <td>Vauxhall</td>\n",
       "      <td>Mokka</td>\n",
       "      <td>USED</td>\n",
       "      <td>2016.0</td>\n",
       "      <td>7995</td>\n",
       "      <td>Hatchback</td>\n",
       "      <td>False</td>\n",
       "      <td>Diesel</td>\n",
       "    </tr>\n",
       "    <tr>\n",
       "      <th>4</th>\n",
       "      <td>202007161321269</td>\n",
       "      <td>64000.0</td>\n",
       "      <td>64</td>\n",
       "      <td>Grey</td>\n",
       "      <td>Land Rover</td>\n",
       "      <td>Range Rover Sport</td>\n",
       "      <td>USED</td>\n",
       "      <td>2015.0</td>\n",
       "      <td>26995</td>\n",
       "      <td>SUV</td>\n",
       "      <td>False</td>\n",
       "      <td>Diesel</td>\n",
       "    </tr>\n",
       "    <tr>\n",
       "      <th>5</th>\n",
       "      <td>202009304412074</td>\n",
       "      <td>16000.0</td>\n",
       "      <td>17</td>\n",
       "      <td>Blue</td>\n",
       "      <td>Audi</td>\n",
       "      <td>S5</td>\n",
       "      <td>USED</td>\n",
       "      <td>2017.0</td>\n",
       "      <td>29000</td>\n",
       "      <td>Convertible</td>\n",
       "      <td>False</td>\n",
       "      <td>Petrol</td>\n",
       "    </tr>\n",
       "  </tbody>\n",
       "</table>\n",
       "</div>"
      ],
      "text/plain": [
       "   public_reference   mileage reg_code standard_colour standard_make  \\\n",
       "1   202007020778260  108230.0       61            Blue        Jaguar   \n",
       "2   202007020778474    7800.0       17            Grey         SKODA   \n",
       "3   202007080986776   45000.0       16           Brown      Vauxhall   \n",
       "4   202007161321269   64000.0       64            Grey    Land Rover   \n",
       "5   202009304412074   16000.0       17            Blue          Audi   \n",
       "\n",
       "      standard_model vehicle_condition year_of_registration  price  \\\n",
       "1                 XF              USED               2011.0   7000   \n",
       "2               Yeti              USED               2017.0  14000   \n",
       "3              Mokka              USED               2016.0   7995   \n",
       "4  Range Rover Sport              USED               2015.0  26995   \n",
       "5                 S5              USED               2017.0  29000   \n",
       "\n",
       "     body_type  crossover_car_and_van fuel_type  \n",
       "1       Saloon                  False    Diesel  \n",
       "2          SUV                  False    Petrol  \n",
       "3    Hatchback                  False    Diesel  \n",
       "4          SUV                  False    Diesel  \n",
       "5  Convertible                  False    Petrol  "
      ]
     },
     "execution_count": 62,
     "metadata": {},
     "output_type": "execute_result"
    }
   ],
   "source": [
    "adverts_df.head(5)"
   ]
  },
  {
   "cell_type": "code",
   "execution_count": 63,
   "id": "070ef9c7",
   "metadata": {},
   "outputs": [
    {
     "data": {
      "text/plain": [
       "public_reference         0\n",
       "mileage                  0\n",
       "reg_code                 0\n",
       "standard_colour          0\n",
       "standard_make            0\n",
       "standard_model           0\n",
       "vehicle_condition        0\n",
       "year_of_registration     0\n",
       "price                    0\n",
       "body_type                0\n",
       "crossover_car_and_van    0\n",
       "fuel_type                0\n",
       "dtype: int64"
      ]
     },
     "execution_count": 63,
     "metadata": {},
     "output_type": "execute_result"
    }
   ],
   "source": [
    "adverts_df.isna().sum()"
   ]
  },
  {
   "cell_type": "code",
   "execution_count": 64,
   "id": "b10728f9",
   "metadata": {},
   "outputs": [
    {
     "name": "stdout",
     "output_type": "stream",
     "text": [
      "<class 'pandas.core.frame.DataFrame'>\n",
      "Int64Index: 344407 entries, 1 to 402004\n",
      "Data columns (total 12 columns):\n",
      " #   Column                 Non-Null Count   Dtype  \n",
      "---  ------                 --------------   -----  \n",
      " 0   public_reference       344407 non-null  int64  \n",
      " 1   mileage                344407 non-null  float64\n",
      " 2   reg_code               344407 non-null  object \n",
      " 3   standard_colour        344407 non-null  object \n",
      " 4   standard_make          344407 non-null  object \n",
      " 5   standard_model         344407 non-null  object \n",
      " 6   vehicle_condition      344407 non-null  object \n",
      " 7   year_of_registration   344407 non-null  object \n",
      " 8   price                  344407 non-null  int64  \n",
      " 9   body_type              344407 non-null  object \n",
      " 10  crossover_car_and_van  344407 non-null  bool   \n",
      " 11  fuel_type              344407 non-null  object \n",
      "dtypes: bool(1), float64(1), int64(2), object(8)\n",
      "memory usage: 31.9+ MB\n"
     ]
    }
   ],
   "source": [
    "adverts_df.info()"
   ]
  },
  {
   "cell_type": "markdown",
   "id": "a6dca928",
   "metadata": {},
   "source": [
    "# FEATURE ENGINEERING AND DATA TRANSFORMATION"
   ]
  },
  {
   "cell_type": "markdown",
   "id": "f9edd36b",
   "metadata": {},
   "source": [
    "#For this aspect, i created a new feature to determine the age of each cars. I did this by subtracting the present year (2022) from each year of registration."
   ]
  },
  {
   "cell_type": "code",
   "execution_count": 65,
   "id": "912ab606",
   "metadata": {},
   "outputs": [],
   "source": [
    "import datetime\n",
    "\n",
    "# Get the current date\n",
    "now = datetime.datetime.now()\n",
    "\n",
    "# Convert the 'year_of_registration' column to numeric\n",
    "adverts_df['year_of_registration'] = pd.to_numeric(adverts_df['year_of_registration'])\n",
    "\n",
    "# Calculate the age of each car\n",
    "adverts_df['age_of_car'] = now.year - adverts_df['year_of_registration']\n",
    "\n"
   ]
  },
  {
   "cell_type": "code",
   "execution_count": 66,
   "id": "f5e1c7c4",
   "metadata": {},
   "outputs": [
    {
     "data": {
      "text/html": [
       "<div>\n",
       "<style scoped>\n",
       "    .dataframe tbody tr th:only-of-type {\n",
       "        vertical-align: middle;\n",
       "    }\n",
       "\n",
       "    .dataframe tbody tr th {\n",
       "        vertical-align: top;\n",
       "    }\n",
       "\n",
       "    .dataframe thead th {\n",
       "        text-align: right;\n",
       "    }\n",
       "</style>\n",
       "<table border=\"1\" class=\"dataframe\">\n",
       "  <thead>\n",
       "    <tr style=\"text-align: right;\">\n",
       "      <th></th>\n",
       "      <th>public_reference</th>\n",
       "      <th>mileage</th>\n",
       "      <th>reg_code</th>\n",
       "      <th>standard_colour</th>\n",
       "      <th>standard_make</th>\n",
       "      <th>standard_model</th>\n",
       "      <th>vehicle_condition</th>\n",
       "      <th>year_of_registration</th>\n",
       "      <th>price</th>\n",
       "      <th>body_type</th>\n",
       "      <th>crossover_car_and_van</th>\n",
       "      <th>fuel_type</th>\n",
       "      <th>age_of_car</th>\n",
       "    </tr>\n",
       "  </thead>\n",
       "  <tbody>\n",
       "    <tr>\n",
       "      <th>1</th>\n",
       "      <td>202007020778260</td>\n",
       "      <td>108230.0</td>\n",
       "      <td>61</td>\n",
       "      <td>Blue</td>\n",
       "      <td>Jaguar</td>\n",
       "      <td>XF</td>\n",
       "      <td>USED</td>\n",
       "      <td>2011.0</td>\n",
       "      <td>7000</td>\n",
       "      <td>Saloon</td>\n",
       "      <td>False</td>\n",
       "      <td>Diesel</td>\n",
       "      <td>12.0</td>\n",
       "    </tr>\n",
       "    <tr>\n",
       "      <th>2</th>\n",
       "      <td>202007020778474</td>\n",
       "      <td>7800.0</td>\n",
       "      <td>17</td>\n",
       "      <td>Grey</td>\n",
       "      <td>SKODA</td>\n",
       "      <td>Yeti</td>\n",
       "      <td>USED</td>\n",
       "      <td>2017.0</td>\n",
       "      <td>14000</td>\n",
       "      <td>SUV</td>\n",
       "      <td>False</td>\n",
       "      <td>Petrol</td>\n",
       "      <td>6.0</td>\n",
       "    </tr>\n",
       "    <tr>\n",
       "      <th>3</th>\n",
       "      <td>202007080986776</td>\n",
       "      <td>45000.0</td>\n",
       "      <td>16</td>\n",
       "      <td>Brown</td>\n",
       "      <td>Vauxhall</td>\n",
       "      <td>Mokka</td>\n",
       "      <td>USED</td>\n",
       "      <td>2016.0</td>\n",
       "      <td>7995</td>\n",
       "      <td>Hatchback</td>\n",
       "      <td>False</td>\n",
       "      <td>Diesel</td>\n",
       "      <td>7.0</td>\n",
       "    </tr>\n",
       "    <tr>\n",
       "      <th>4</th>\n",
       "      <td>202007161321269</td>\n",
       "      <td>64000.0</td>\n",
       "      <td>64</td>\n",
       "      <td>Grey</td>\n",
       "      <td>Land Rover</td>\n",
       "      <td>Range Rover Sport</td>\n",
       "      <td>USED</td>\n",
       "      <td>2015.0</td>\n",
       "      <td>26995</td>\n",
       "      <td>SUV</td>\n",
       "      <td>False</td>\n",
       "      <td>Diesel</td>\n",
       "      <td>8.0</td>\n",
       "    </tr>\n",
       "    <tr>\n",
       "      <th>5</th>\n",
       "      <td>202009304412074</td>\n",
       "      <td>16000.0</td>\n",
       "      <td>17</td>\n",
       "      <td>Blue</td>\n",
       "      <td>Audi</td>\n",
       "      <td>S5</td>\n",
       "      <td>USED</td>\n",
       "      <td>2017.0</td>\n",
       "      <td>29000</td>\n",
       "      <td>Convertible</td>\n",
       "      <td>False</td>\n",
       "      <td>Petrol</td>\n",
       "      <td>6.0</td>\n",
       "    </tr>\n",
       "  </tbody>\n",
       "</table>\n",
       "</div>"
      ],
      "text/plain": [
       "   public_reference   mileage reg_code standard_colour standard_make  \\\n",
       "1   202007020778260  108230.0       61            Blue        Jaguar   \n",
       "2   202007020778474    7800.0       17            Grey         SKODA   \n",
       "3   202007080986776   45000.0       16           Brown      Vauxhall   \n",
       "4   202007161321269   64000.0       64            Grey    Land Rover   \n",
       "5   202009304412074   16000.0       17            Blue          Audi   \n",
       "\n",
       "      standard_model vehicle_condition  year_of_registration  price  \\\n",
       "1                 XF              USED                2011.0   7000   \n",
       "2               Yeti              USED                2017.0  14000   \n",
       "3              Mokka              USED                2016.0   7995   \n",
       "4  Range Rover Sport              USED                2015.0  26995   \n",
       "5                 S5              USED                2017.0  29000   \n",
       "\n",
       "     body_type  crossover_car_and_van fuel_type  age_of_car  \n",
       "1       Saloon                  False    Diesel        12.0  \n",
       "2          SUV                  False    Petrol         6.0  \n",
       "3    Hatchback                  False    Diesel         7.0  \n",
       "4          SUV                  False    Diesel         8.0  \n",
       "5  Convertible                  False    Petrol         6.0  "
      ]
     },
     "execution_count": 66,
     "metadata": {},
     "output_type": "execute_result"
    }
   ],
   "source": [
    "adverts_df.head()"
   ]
  },
  {
   "cell_type": "markdown",
   "id": "8bf12852",
   "metadata": {},
   "source": [
    "#The next stage is getting rid of irrelevant features\n",
    "\n",
    "#'reg_code' and  'crossover_car_and_van'colums will be dropped from the dataframe using the drop method."
   ]
  },
  {
   "cell_type": "code",
   "execution_count": 67,
   "id": "356f266b",
   "metadata": {},
   "outputs": [],
   "source": [
    "adverts_df = adverts_df.drop(columns=['reg_code',  'crossover_car_and_van'])"
   ]
  },
  {
   "cell_type": "code",
   "execution_count": 68,
   "id": "03bf92ea",
   "metadata": {},
   "outputs": [
    {
     "data": {
      "text/html": [
       "<div>\n",
       "<style scoped>\n",
       "    .dataframe tbody tr th:only-of-type {\n",
       "        vertical-align: middle;\n",
       "    }\n",
       "\n",
       "    .dataframe tbody tr th {\n",
       "        vertical-align: top;\n",
       "    }\n",
       "\n",
       "    .dataframe thead th {\n",
       "        text-align: right;\n",
       "    }\n",
       "</style>\n",
       "<table border=\"1\" class=\"dataframe\">\n",
       "  <thead>\n",
       "    <tr style=\"text-align: right;\">\n",
       "      <th></th>\n",
       "      <th>public_reference</th>\n",
       "      <th>mileage</th>\n",
       "      <th>standard_colour</th>\n",
       "      <th>standard_make</th>\n",
       "      <th>standard_model</th>\n",
       "      <th>vehicle_condition</th>\n",
       "      <th>year_of_registration</th>\n",
       "      <th>price</th>\n",
       "      <th>body_type</th>\n",
       "      <th>fuel_type</th>\n",
       "      <th>age_of_car</th>\n",
       "    </tr>\n",
       "  </thead>\n",
       "  <tbody>\n",
       "    <tr>\n",
       "      <th>1</th>\n",
       "      <td>202007020778260</td>\n",
       "      <td>108230.0</td>\n",
       "      <td>Blue</td>\n",
       "      <td>Jaguar</td>\n",
       "      <td>XF</td>\n",
       "      <td>USED</td>\n",
       "      <td>2011.0</td>\n",
       "      <td>7000</td>\n",
       "      <td>Saloon</td>\n",
       "      <td>Diesel</td>\n",
       "      <td>12.0</td>\n",
       "    </tr>\n",
       "    <tr>\n",
       "      <th>2</th>\n",
       "      <td>202007020778474</td>\n",
       "      <td>7800.0</td>\n",
       "      <td>Grey</td>\n",
       "      <td>SKODA</td>\n",
       "      <td>Yeti</td>\n",
       "      <td>USED</td>\n",
       "      <td>2017.0</td>\n",
       "      <td>14000</td>\n",
       "      <td>SUV</td>\n",
       "      <td>Petrol</td>\n",
       "      <td>6.0</td>\n",
       "    </tr>\n",
       "    <tr>\n",
       "      <th>3</th>\n",
       "      <td>202007080986776</td>\n",
       "      <td>45000.0</td>\n",
       "      <td>Brown</td>\n",
       "      <td>Vauxhall</td>\n",
       "      <td>Mokka</td>\n",
       "      <td>USED</td>\n",
       "      <td>2016.0</td>\n",
       "      <td>7995</td>\n",
       "      <td>Hatchback</td>\n",
       "      <td>Diesel</td>\n",
       "      <td>7.0</td>\n",
       "    </tr>\n",
       "    <tr>\n",
       "      <th>4</th>\n",
       "      <td>202007161321269</td>\n",
       "      <td>64000.0</td>\n",
       "      <td>Grey</td>\n",
       "      <td>Land Rover</td>\n",
       "      <td>Range Rover Sport</td>\n",
       "      <td>USED</td>\n",
       "      <td>2015.0</td>\n",
       "      <td>26995</td>\n",
       "      <td>SUV</td>\n",
       "      <td>Diesel</td>\n",
       "      <td>8.0</td>\n",
       "    </tr>\n",
       "    <tr>\n",
       "      <th>5</th>\n",
       "      <td>202009304412074</td>\n",
       "      <td>16000.0</td>\n",
       "      <td>Blue</td>\n",
       "      <td>Audi</td>\n",
       "      <td>S5</td>\n",
       "      <td>USED</td>\n",
       "      <td>2017.0</td>\n",
       "      <td>29000</td>\n",
       "      <td>Convertible</td>\n",
       "      <td>Petrol</td>\n",
       "      <td>6.0</td>\n",
       "    </tr>\n",
       "  </tbody>\n",
       "</table>\n",
       "</div>"
      ],
      "text/plain": [
       "   public_reference   mileage standard_colour standard_make  \\\n",
       "1   202007020778260  108230.0            Blue        Jaguar   \n",
       "2   202007020778474    7800.0            Grey         SKODA   \n",
       "3   202007080986776   45000.0           Brown      Vauxhall   \n",
       "4   202007161321269   64000.0            Grey    Land Rover   \n",
       "5   202009304412074   16000.0            Blue          Audi   \n",
       "\n",
       "      standard_model vehicle_condition  year_of_registration  price  \\\n",
       "1                 XF              USED                2011.0   7000   \n",
       "2               Yeti              USED                2017.0  14000   \n",
       "3              Mokka              USED                2016.0   7995   \n",
       "4  Range Rover Sport              USED                2015.0  26995   \n",
       "5                 S5              USED                2017.0  29000   \n",
       "\n",
       "     body_type fuel_type  age_of_car  \n",
       "1       Saloon    Diesel        12.0  \n",
       "2          SUV    Petrol         6.0  \n",
       "3    Hatchback    Diesel         7.0  \n",
       "4          SUV    Diesel         8.0  \n",
       "5  Convertible    Petrol         6.0  "
      ]
     },
     "execution_count": 68,
     "metadata": {},
     "output_type": "execute_result"
    }
   ],
   "source": [
    "adverts_df.head()"
   ]
  },
  {
   "cell_type": "markdown",
   "id": "bbac1d08",
   "metadata": {},
   "source": [
    "#SUBSETTING"
   ]
  },
  {
   "cell_type": "markdown",
   "id": "fd2b413c",
   "metadata": {},
   "source": [
    "#Subsetting is used to remove unnecessary columns, duplicate rows, or rows with missing data.\n",
    "\n",
    "#To do the subsetting on my datasets, i splitted the datasets into bits.\n",
    "\n",
    " -Separated the numeric data from the dataframe."
   ]
  },
  {
   "cell_type": "code",
   "execution_count": 69,
   "id": "3c566a9c",
   "metadata": {},
   "outputs": [],
   "source": [
    "DF= adverts_df.select_dtypes(['float64', 'int64'])"
   ]
  },
  {
   "cell_type": "code",
   "execution_count": 70,
   "id": "70eb46bd",
   "metadata": {},
   "outputs": [
    {
     "data": {
      "text/html": [
       "<div>\n",
       "<style scoped>\n",
       "    .dataframe tbody tr th:only-of-type {\n",
       "        vertical-align: middle;\n",
       "    }\n",
       "\n",
       "    .dataframe tbody tr th {\n",
       "        vertical-align: top;\n",
       "    }\n",
       "\n",
       "    .dataframe thead th {\n",
       "        text-align: right;\n",
       "    }\n",
       "</style>\n",
       "<table border=\"1\" class=\"dataframe\">\n",
       "  <thead>\n",
       "    <tr style=\"text-align: right;\">\n",
       "      <th></th>\n",
       "      <th>public_reference</th>\n",
       "      <th>mileage</th>\n",
       "      <th>year_of_registration</th>\n",
       "      <th>price</th>\n",
       "      <th>age_of_car</th>\n",
       "    </tr>\n",
       "  </thead>\n",
       "  <tbody>\n",
       "    <tr>\n",
       "      <th>1</th>\n",
       "      <td>202007020778260</td>\n",
       "      <td>108230.0</td>\n",
       "      <td>2011.0</td>\n",
       "      <td>7000</td>\n",
       "      <td>12.0</td>\n",
       "    </tr>\n",
       "    <tr>\n",
       "      <th>2</th>\n",
       "      <td>202007020778474</td>\n",
       "      <td>7800.0</td>\n",
       "      <td>2017.0</td>\n",
       "      <td>14000</td>\n",
       "      <td>6.0</td>\n",
       "    </tr>\n",
       "    <tr>\n",
       "      <th>3</th>\n",
       "      <td>202007080986776</td>\n",
       "      <td>45000.0</td>\n",
       "      <td>2016.0</td>\n",
       "      <td>7995</td>\n",
       "      <td>7.0</td>\n",
       "    </tr>\n",
       "    <tr>\n",
       "      <th>4</th>\n",
       "      <td>202007161321269</td>\n",
       "      <td>64000.0</td>\n",
       "      <td>2015.0</td>\n",
       "      <td>26995</td>\n",
       "      <td>8.0</td>\n",
       "    </tr>\n",
       "    <tr>\n",
       "      <th>5</th>\n",
       "      <td>202009304412074</td>\n",
       "      <td>16000.0</td>\n",
       "      <td>2017.0</td>\n",
       "      <td>29000</td>\n",
       "      <td>6.0</td>\n",
       "    </tr>\n",
       "    <tr>\n",
       "      <th>6</th>\n",
       "      <td>202007080998445</td>\n",
       "      <td>24075.0</td>\n",
       "      <td>2017.0</td>\n",
       "      <td>5861</td>\n",
       "      <td>6.0</td>\n",
       "    </tr>\n",
       "    <tr>\n",
       "      <th>7</th>\n",
       "      <td>202009244143980</td>\n",
       "      <td>99000.0</td>\n",
       "      <td>2013.0</td>\n",
       "      <td>24475</td>\n",
       "      <td>10.0</td>\n",
       "    </tr>\n",
       "    <tr>\n",
       "      <th>8</th>\n",
       "      <td>202010014442611</td>\n",
       "      <td>111236.0</td>\n",
       "      <td>2008.0</td>\n",
       "      <td>6995</td>\n",
       "      <td>15.0</td>\n",
       "    </tr>\n",
       "    <tr>\n",
       "      <th>10</th>\n",
       "      <td>202007151278313</td>\n",
       "      <td>77000.0</td>\n",
       "      <td>2010.0</td>\n",
       "      <td>4499</td>\n",
       "      <td>13.0</td>\n",
       "    </tr>\n",
       "    <tr>\n",
       "      <th>11</th>\n",
       "      <td>202007161303602</td>\n",
       "      <td>24487.0</td>\n",
       "      <td>2017.0</td>\n",
       "      <td>8795</td>\n",
       "      <td>6.0</td>\n",
       "    </tr>\n",
       "  </tbody>\n",
       "</table>\n",
       "</div>"
      ],
      "text/plain": [
       "    public_reference   mileage  year_of_registration  price  age_of_car\n",
       "1    202007020778260  108230.0                2011.0   7000        12.0\n",
       "2    202007020778474    7800.0                2017.0  14000         6.0\n",
       "3    202007080986776   45000.0                2016.0   7995         7.0\n",
       "4    202007161321269   64000.0                2015.0  26995         8.0\n",
       "5    202009304412074   16000.0                2017.0  29000         6.0\n",
       "6    202007080998445   24075.0                2017.0   5861         6.0\n",
       "7    202009244143980   99000.0                2013.0  24475        10.0\n",
       "8    202010014442611  111236.0                2008.0   6995        15.0\n",
       "10   202007151278313   77000.0                2010.0   4499        13.0\n",
       "11   202007161303602   24487.0                2017.0   8795         6.0"
      ]
     },
     "execution_count": 70,
     "metadata": {},
     "output_type": "execute_result"
    }
   ],
   "source": [
    "DF.head(10)"
   ]
  },
  {
   "cell_type": "markdown",
   "id": "3e709757",
   "metadata": {},
   "source": [
    "#Select 5% of the rows randomly\n"
   ]
  },
  {
   "cell_type": "code",
   "execution_count": 71,
   "id": "40cbe129",
   "metadata": {},
   "outputs": [],
   "source": [
    "DF1= adverts_df.sample(frac=0.05)"
   ]
  },
  {
   "cell_type": "code",
   "execution_count": 72,
   "id": "2202d655",
   "metadata": {},
   "outputs": [
    {
     "data": {
      "text/html": [
       "<div>\n",
       "<style scoped>\n",
       "    .dataframe tbody tr th:only-of-type {\n",
       "        vertical-align: middle;\n",
       "    }\n",
       "\n",
       "    .dataframe tbody tr th {\n",
       "        vertical-align: top;\n",
       "    }\n",
       "\n",
       "    .dataframe thead th {\n",
       "        text-align: right;\n",
       "    }\n",
       "</style>\n",
       "<table border=\"1\" class=\"dataframe\">\n",
       "  <thead>\n",
       "    <tr style=\"text-align: right;\">\n",
       "      <th></th>\n",
       "      <th>public_reference</th>\n",
       "      <th>mileage</th>\n",
       "      <th>standard_colour</th>\n",
       "      <th>standard_make</th>\n",
       "      <th>standard_model</th>\n",
       "      <th>vehicle_condition</th>\n",
       "      <th>year_of_registration</th>\n",
       "      <th>price</th>\n",
       "      <th>body_type</th>\n",
       "      <th>fuel_type</th>\n",
       "      <th>age_of_car</th>\n",
       "    </tr>\n",
       "  </thead>\n",
       "  <tbody>\n",
       "    <tr>\n",
       "      <th>387233</th>\n",
       "      <td>202009294338082</td>\n",
       "      <td>77000.0</td>\n",
       "      <td>Red</td>\n",
       "      <td>MINI</td>\n",
       "      <td>Hatch</td>\n",
       "      <td>USED</td>\n",
       "      <td>2008.0</td>\n",
       "      <td>8000</td>\n",
       "      <td>Hatchback</td>\n",
       "      <td>Petrol</td>\n",
       "      <td>15.0</td>\n",
       "    </tr>\n",
       "    <tr>\n",
       "      <th>86779</th>\n",
       "      <td>202010275500004</td>\n",
       "      <td>61352.0</td>\n",
       "      <td>Red</td>\n",
       "      <td>Peugeot</td>\n",
       "      <td>107</td>\n",
       "      <td>USED</td>\n",
       "      <td>2011.0</td>\n",
       "      <td>2595</td>\n",
       "      <td>Hatchback</td>\n",
       "      <td>Petrol</td>\n",
       "      <td>12.0</td>\n",
       "    </tr>\n",
       "    <tr>\n",
       "      <th>255734</th>\n",
       "      <td>202010245373131</td>\n",
       "      <td>32068.0</td>\n",
       "      <td>Blue</td>\n",
       "      <td>Volkswagen</td>\n",
       "      <td>Polo</td>\n",
       "      <td>USED</td>\n",
       "      <td>2016.0</td>\n",
       "      <td>9000</td>\n",
       "      <td>Hatchback</td>\n",
       "      <td>Petrol</td>\n",
       "      <td>7.0</td>\n",
       "    </tr>\n",
       "    <tr>\n",
       "      <th>30006</th>\n",
       "      <td>202009153741458</td>\n",
       "      <td>49069.0</td>\n",
       "      <td>Red</td>\n",
       "      <td>Nissan</td>\n",
       "      <td>Juke</td>\n",
       "      <td>USED</td>\n",
       "      <td>2017.0</td>\n",
       "      <td>9500</td>\n",
       "      <td>SUV</td>\n",
       "      <td>Diesel</td>\n",
       "      <td>6.0</td>\n",
       "    </tr>\n",
       "    <tr>\n",
       "      <th>154615</th>\n",
       "      <td>202010124920644</td>\n",
       "      <td>10.0</td>\n",
       "      <td>Black</td>\n",
       "      <td>Suzuki</td>\n",
       "      <td>Swift</td>\n",
       "      <td>USED</td>\n",
       "      <td>2020.0</td>\n",
       "      <td>9995</td>\n",
       "      <td>Hatchback</td>\n",
       "      <td>Petrol Hybrid</td>\n",
       "      <td>3.0</td>\n",
       "    </tr>\n",
       "    <tr>\n",
       "      <th>...</th>\n",
       "      <td>...</td>\n",
       "      <td>...</td>\n",
       "      <td>...</td>\n",
       "      <td>...</td>\n",
       "      <td>...</td>\n",
       "      <td>...</td>\n",
       "      <td>...</td>\n",
       "      <td>...</td>\n",
       "      <td>...</td>\n",
       "      <td>...</td>\n",
       "      <td>...</td>\n",
       "    </tr>\n",
       "    <tr>\n",
       "      <th>164088</th>\n",
       "      <td>202006280617810</td>\n",
       "      <td>122000.0</td>\n",
       "      <td>Red</td>\n",
       "      <td>Renault</td>\n",
       "      <td>Megane</td>\n",
       "      <td>USED</td>\n",
       "      <td>2005.0</td>\n",
       "      <td>795</td>\n",
       "      <td>Hatchback</td>\n",
       "      <td>Petrol</td>\n",
       "      <td>18.0</td>\n",
       "    </tr>\n",
       "    <tr>\n",
       "      <th>121694</th>\n",
       "      <td>202005149313218</td>\n",
       "      <td>98500.0</td>\n",
       "      <td>Silver</td>\n",
       "      <td>Kia</td>\n",
       "      <td>Sedona</td>\n",
       "      <td>USED</td>\n",
       "      <td>2011.0</td>\n",
       "      <td>4995</td>\n",
       "      <td>MPV</td>\n",
       "      <td>Diesel</td>\n",
       "      <td>12.0</td>\n",
       "    </tr>\n",
       "    <tr>\n",
       "      <th>193597</th>\n",
       "      <td>202010245391793</td>\n",
       "      <td>25500.0</td>\n",
       "      <td>White</td>\n",
       "      <td>Vauxhall</td>\n",
       "      <td>Astra</td>\n",
       "      <td>USED</td>\n",
       "      <td>2016.0</td>\n",
       "      <td>8695</td>\n",
       "      <td>Hatchback</td>\n",
       "      <td>Diesel</td>\n",
       "      <td>7.0</td>\n",
       "    </tr>\n",
       "    <tr>\n",
       "      <th>374756</th>\n",
       "      <td>202001246515424</td>\n",
       "      <td>7500.0</td>\n",
       "      <td>Black</td>\n",
       "      <td>Hyundai</td>\n",
       "      <td>i10</td>\n",
       "      <td>USED</td>\n",
       "      <td>2020.0</td>\n",
       "      <td>10295</td>\n",
       "      <td>Hatchback</td>\n",
       "      <td>Petrol</td>\n",
       "      <td>3.0</td>\n",
       "    </tr>\n",
       "    <tr>\n",
       "      <th>275199</th>\n",
       "      <td>202008283044667</td>\n",
       "      <td>12058.0</td>\n",
       "      <td>Grey</td>\n",
       "      <td>Vauxhall</td>\n",
       "      <td>Astra</td>\n",
       "      <td>USED</td>\n",
       "      <td>2017.0</td>\n",
       "      <td>10437</td>\n",
       "      <td>Estate</td>\n",
       "      <td>Petrol</td>\n",
       "      <td>6.0</td>\n",
       "    </tr>\n",
       "  </tbody>\n",
       "</table>\n",
       "<p>17220 rows × 11 columns</p>\n",
       "</div>"
      ],
      "text/plain": [
       "        public_reference   mileage standard_colour standard_make  \\\n",
       "387233   202009294338082   77000.0             Red          MINI   \n",
       "86779    202010275500004   61352.0             Red       Peugeot   \n",
       "255734   202010245373131   32068.0            Blue    Volkswagen   \n",
       "30006    202009153741458   49069.0             Red        Nissan   \n",
       "154615   202010124920644      10.0           Black        Suzuki   \n",
       "...                  ...       ...             ...           ...   \n",
       "164088   202006280617810  122000.0             Red       Renault   \n",
       "121694   202005149313218   98500.0          Silver           Kia   \n",
       "193597   202010245391793   25500.0           White      Vauxhall   \n",
       "374756   202001246515424    7500.0           Black       Hyundai   \n",
       "275199   202008283044667   12058.0            Grey      Vauxhall   \n",
       "\n",
       "       standard_model vehicle_condition  year_of_registration  price  \\\n",
       "387233          Hatch              USED                2008.0   8000   \n",
       "86779             107              USED                2011.0   2595   \n",
       "255734           Polo              USED                2016.0   9000   \n",
       "30006            Juke              USED                2017.0   9500   \n",
       "154615          Swift              USED                2020.0   9995   \n",
       "...               ...               ...                   ...    ...   \n",
       "164088         Megane              USED                2005.0    795   \n",
       "121694         Sedona              USED                2011.0   4995   \n",
       "193597          Astra              USED                2016.0   8695   \n",
       "374756            i10              USED                2020.0  10295   \n",
       "275199          Astra              USED                2017.0  10437   \n",
       "\n",
       "        body_type      fuel_type  age_of_car  \n",
       "387233  Hatchback         Petrol        15.0  \n",
       "86779   Hatchback         Petrol        12.0  \n",
       "255734  Hatchback         Petrol         7.0  \n",
       "30006         SUV         Diesel         6.0  \n",
       "154615  Hatchback  Petrol Hybrid         3.0  \n",
       "...           ...            ...         ...  \n",
       "164088  Hatchback         Petrol        18.0  \n",
       "121694        MPV         Diesel        12.0  \n",
       "193597  Hatchback         Diesel         7.0  \n",
       "374756  Hatchback         Petrol         3.0  \n",
       "275199     Estate         Petrol         6.0  \n",
       "\n",
       "[17220 rows x 11 columns]"
      ]
     },
     "execution_count": 72,
     "metadata": {},
     "output_type": "execute_result"
    }
   ],
   "source": [
    "DF1"
   ]
  },
  {
   "cell_type": "code",
   "execution_count": 73,
   "id": "02b3f853",
   "metadata": {},
   "outputs": [
    {
     "name": "stdout",
     "output_type": "stream",
     "text": [
      "There are no missing values in the DataFrame.\n"
     ]
    }
   ],
   "source": [
    "if adverts_df.isnull().any().any():\n",
    "    print('There are still missing values in the DataFrame.')\n",
    "else:\n",
    "    print('There are no missing values in the DataFrame.')\n"
   ]
  },
  {
   "cell_type": "markdown",
   "id": "d7dd5176",
   "metadata": {},
   "source": [
    "# 3. ASSOCIATION AND GROUP DIFFERENCES ANALYSIS"
   ]
  },
  {
   "cell_type": "markdown",
   "id": "052f8e99",
   "metadata": {},
   "source": [
    "3.1##QUANTITATIVE - QUANTITATIVE"
   ]
  },
  {
   "cell_type": "code",
   "execution_count": 74,
   "id": "f3cba1c2",
   "metadata": {},
   "outputs": [],
   "source": [
    "DF1 = adverts_df"
   ]
  },
  {
   "cell_type": "code",
   "execution_count": 75,
   "id": "8ba8a761",
   "metadata": {},
   "outputs": [
    {
     "data": {
      "text/html": [
       "<div>\n",
       "<style scoped>\n",
       "    .dataframe tbody tr th:only-of-type {\n",
       "        vertical-align: middle;\n",
       "    }\n",
       "\n",
       "    .dataframe tbody tr th {\n",
       "        vertical-align: top;\n",
       "    }\n",
       "\n",
       "    .dataframe thead th {\n",
       "        text-align: right;\n",
       "    }\n",
       "</style>\n",
       "<table border=\"1\" class=\"dataframe\">\n",
       "  <thead>\n",
       "    <tr style=\"text-align: right;\">\n",
       "      <th></th>\n",
       "      <th>public_reference</th>\n",
       "      <th>mileage</th>\n",
       "      <th>year_of_registration</th>\n",
       "      <th>price</th>\n",
       "      <th>age_of_car</th>\n",
       "    </tr>\n",
       "  </thead>\n",
       "  <tbody>\n",
       "    <tr>\n",
       "      <th>public_reference</th>\n",
       "      <td>1.000000</td>\n",
       "      <td>0.023079</td>\n",
       "      <td>0.009841</td>\n",
       "      <td>-0.049510</td>\n",
       "      <td>-0.009841</td>\n",
       "    </tr>\n",
       "    <tr>\n",
       "      <th>mileage</th>\n",
       "      <td>0.023079</td>\n",
       "      <td>1.000000</td>\n",
       "      <td>-0.368922</td>\n",
       "      <td>-0.517220</td>\n",
       "      <td>0.368922</td>\n",
       "    </tr>\n",
       "    <tr>\n",
       "      <th>year_of_registration</th>\n",
       "      <td>0.009841</td>\n",
       "      <td>-0.368922</td>\n",
       "      <td>1.000000</td>\n",
       "      <td>0.288446</td>\n",
       "      <td>-1.000000</td>\n",
       "    </tr>\n",
       "    <tr>\n",
       "      <th>price</th>\n",
       "      <td>-0.049510</td>\n",
       "      <td>-0.517220</td>\n",
       "      <td>0.288446</td>\n",
       "      <td>1.000000</td>\n",
       "      <td>-0.288446</td>\n",
       "    </tr>\n",
       "    <tr>\n",
       "      <th>age_of_car</th>\n",
       "      <td>-0.009841</td>\n",
       "      <td>0.368922</td>\n",
       "      <td>-1.000000</td>\n",
       "      <td>-0.288446</td>\n",
       "      <td>1.000000</td>\n",
       "    </tr>\n",
       "  </tbody>\n",
       "</table>\n",
       "</div>"
      ],
      "text/plain": [
       "                      public_reference   mileage  year_of_registration  \\\n",
       "public_reference              1.000000  0.023079              0.009841   \n",
       "mileage                       0.023079  1.000000             -0.368922   \n",
       "year_of_registration          0.009841 -0.368922              1.000000   \n",
       "price                        -0.049510 -0.517220              0.288446   \n",
       "age_of_car                   -0.009841  0.368922             -1.000000   \n",
       "\n",
       "                         price  age_of_car  \n",
       "public_reference     -0.049510   -0.009841  \n",
       "mileage              -0.517220    0.368922  \n",
       "year_of_registration  0.288446   -1.000000  \n",
       "price                 1.000000   -0.288446  \n",
       "age_of_car           -0.288446    1.000000  "
      ]
     },
     "execution_count": 75,
     "metadata": {},
     "output_type": "execute_result"
    }
   ],
   "source": [
    "corr = DF1.corr()\n",
    "corr"
   ]
  },
  {
   "cell_type": "code",
   "execution_count": 76,
   "id": "719df8d1",
   "metadata": {},
   "outputs": [
    {
     "data": {
      "text/plain": [
       "<AxesSubplot:>"
      ]
     },
     "execution_count": 76,
     "metadata": {},
     "output_type": "execute_result"
    },
    {
     "data": {
      "image/png": "[encoded data removed]",
      "text/plain": [
       "<Figure size 576x432 with 2 Axes>"
      ]
     },
     "metadata": {},
     "output_type": "display_data"
    }
   ],
   "source": [
    "sns.heatmap(corr,\n",
    "            xticklabels=corr.columns,\n",
    "            yticklabels=corr.columns)\n",
    "            "
   ]
  },
  {
   "cell_type": "markdown",
   "id": "aef8465b",
   "metadata": {},
   "source": [
    "##Prepare The Data For Modelling"
   ]
  },
  {
   "cell_type": "code",
   "execution_count": 77,
   "id": "aab83a2e",
   "metadata": {},
   "outputs": [],
   "source": [
    "x = adverts_df[['mileage', 'age_of_car']]  \n",
    "y = adverts_df['price']  \n"
   ]
  },
  {
   "cell_type": "code",
   "execution_count": 78,
   "id": "dbbbf08a",
   "metadata": {},
   "outputs": [
    {
     "name": "stdout",
     "output_type": "stream",
     "text": [
      "                            OLS Regression Results                            \n",
      "==============================================================================\n",
      "Dep. Variable:                  price   R-squared:                       0.279\n",
      "Model:                            OLS   Adj. R-squared:                  0.279\n",
      "Method:                 Least Squares   F-statistic:                 6.649e+04\n",
      "Date:                Wed, 11 Jan 2023   Prob (F-statistic):               0.00\n",
      "Time:                        08:43:17   Log-Likelihood:            -3.5253e+06\n",
      "No. Observations:              344407   AIC:                         7.051e+06\n",
      "Df Residuals:                  344404   BIC:                         7.051e+06\n",
      "Df Model:                           2                                         \n",
      "Covariance Type:            nonrobust                                         \n",
      "==============================================================================\n",
      "                 coef    std err          t      P>|t|      [0.025      0.975]\n",
      "------------------------------------------------------------------------------\n",
      "const       1.886e+04     20.047    940.611      0.000    1.88e+04    1.89e+04\n",
      "mileage       -0.1240      0.000   -305.377      0.000      -0.125      -0.123\n",
      "age_of_car  -114.7943      1.582    -72.576      0.000    -117.894    -111.694\n",
      "==============================================================================\n",
      "Omnibus:                    85749.598   Durbin-Watson:                   1.995\n",
      "Prob(Omnibus):                  0.000   Jarque-Bera (JB):           338589.164\n",
      "Skew:                           1.195   Prob(JB):                         0.00\n",
      "Kurtosis:                       7.228   Cond. No.                     8.75e+04\n",
      "==============================================================================\n",
      "\n",
      "Notes:\n",
      "[1] Standard Errors assume that the covariance matrix of the errors is correctly specified.\n",
      "[2] The condition number is large, 8.75e+04. This might indicate that there are\n",
      "strong multicollinearity or other numerical problems.\n"
     ]
    }
   ],
   "source": [
    "import statsmodels.api as sm\n",
    "\n",
    "#prepare data for modeling\n",
    "X = adverts_df[['mileage', 'age_of_car']]\n",
    "X = pd.get_dummies(X, drop_first = True) \n",
    "y = adverts_df['price']\n",
    "\n",
    "#Add a constant term to the indpendent variables\n",
    "X = sm.add_constant(X)\n",
    "\n",
    "#Fit the linear regresssion model\n",
    "model = sm.OLS(y, X).fit()\n",
    "\n",
    "#Print the summary statistics \n",
    "print(model.summary())\n"
   ]
  },
  {
   "cell_type": "code",
   "execution_count": 79,
   "id": "9ee2694f",
   "metadata": {},
   "outputs": [
    {
     "data": {
      "image/png": "[encoded data removed]",
      "text/plain": [
       "<Figure size 576x432 with 1 Axes>"
      ]
     },
     "metadata": {},
     "output_type": "display_data"
    }
   ],
   "source": [
    "#Select a random sample of the data\n",
    "sample = adverts_df.sample(n=1000, random_state=42)\n",
    "\n",
    "#Create scatter plot with fitted line\n",
    "sns.regplot(data=sample, x='year_of_registration', y='price')\n",
    "\n",
    "#show plot\n",
    "plt.show()"
   ]
  },
  {
   "cell_type": "code",
   "execution_count": 80,
   "id": "a0b9e7c5",
   "metadata": {},
   "outputs": [
    {
     "data": {
      "image/png": "[encoded data removed]",
      "text/plain": [
       "<Figure size 540x540 with 12 Axes>"
      ]
     },
     "metadata": {},
     "output_type": "display_data"
    }
   ],
   "source": [
    "#Select a random sample of the data\n",
    "sample = adverts_df.sample(n=1000, random_state=42)\n",
    "\n",
    "#Set style and color palette\n",
    "sns.set(style='ticks', color_codes=True)\n",
    "\n",
    "#Select quantitative variables\n",
    "quant_vars =['mileage', 'age_of_car', 'price']\n",
    "\n",
    "#Create Scatter plot matrix sns.pairplot\n",
    "sns.pairplot(data=sample, x_vars=quant_vars, y_vars=quant_vars)\n",
    "\n",
    "#Show plot\n",
    "plt.show()\n"
   ]
  },
  {
   "cell_type": "markdown",
   "id": "4ca76cbb",
   "metadata": {},
   "source": [
    "# Quantitative --Categorical"
   ]
  },
  {
   "cell_type": "code",
   "execution_count": 81,
   "id": "3d3014fb",
   "metadata": {},
   "outputs": [
    {
     "data": {
      "image/png": "[encoded data removed]",
      "text/plain": [
       "<Figure size 576x432 with 1 Axes>"
      ]
     },
     "metadata": {},
     "output_type": "display_data"
    }
   ],
   "source": [
    "#Select a random sample of the data \n",
    "sample=adverts_df.sample(n=1000, random_state=42)\n",
    "\n",
    "#Set style and color palette\n",
    "sns.set(style='ticks', color_codes=True)\n",
    "\n",
    "#Plot boxplot of the price variable for the two groups\n",
    "sns.boxplot(data=sample, x='vehicle_condition', y='price')\n",
    "\n",
    "#show plot\n",
    "plt.show()"
   ]
  },
  {
   "cell_type": "markdown",
   "id": "c451b59e",
   "metadata": {},
   "source": [
    "# Categorical-Categorical"
   ]
  },
  {
   "cell_type": "code",
   "execution_count": 82,
   "id": "d9a509a6",
   "metadata": {},
   "outputs": [
    {
     "data": {
      "image/png": "[encoded data removed]",
      "text/plain": [
       "<Figure size 576x432 with 1 Axes>"
      ]
     },
     "metadata": {},
     "output_type": "display_data"
    }
   ],
   "source": [
    "#Select a random sample of the data sample = adverts_df.sample(n=1000, random_state 42)\n",
    "\n",
    "#Set style and color palette\n",
    "sns.set(style='ticks', color_codes=True)\n",
    "\n",
    "#Create a barplot of the mean price for the different groups\n",
    "sns.barplot(data=sample, x='price', y='age_of_car', hue='vehicle_condition')\n",
    "\n",
    "#Show plot\n",
    "plt.show()\n"
   ]
  },
  {
   "cell_type": "code",
   "execution_count": null,
   "id": "dd2aeadd",
   "metadata": {},
   "outputs": [],
   "source": []
  }
 ],
 "metadata": {
  "kernelspec": {
   "display_name": "Python 3",
   "language": "python",
   "name": "python3"
  },
  "language_info": {
   "codemirror_mode": {
    "name": "ipython",
    "version": 3
   },
   "file_extension": ".py",
   "mimetype": "text/x-python",
   "name": "python",
   "nbconvert_exporter": "python",
   "pygments_lexer": "ipython3",
   "version": "3.8.8"
  }
 },
 "nbformat": 4,
 "nbformat_minor": 5
}
